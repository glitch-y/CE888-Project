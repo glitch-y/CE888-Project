{
  "nbformat": 4,
  "nbformat_minor": 0,
  "metadata": {
    "colab": {
      "name": "Preprocessing.ipynb",
      "provenance": [],
      "authorship_tag": "ABX9TyMtDjxIsapDH8ewpy53vHn4",
      "include_colab_link": true
    },
    "kernelspec": {
      "name": "python3",
      "display_name": "Python 3"
    }
  },
  "cells": [
    {
      "cell_type": "markdown",
      "metadata": {
        "id": "view-in-github",
        "colab_type": "text"
      },
      "source": [
        "<a href=\"https://colab.research.google.com/github/glitch-y/CE888-Project/blob/main/2.%20Scripts/1.%20Preprocessing_Emotion.ipynb\" target=\"_parent\"><img src=\"https://colab.research.google.com/assets/colab-badge.svg\" alt=\"Open In Colab\"/></a>"
      ]
    },
    {
      "cell_type": "code",
      "metadata": {
        "id": "NYh7CIZk47j0",
        "colab": {
          "base_uri": "https://localhost:8080/"
        },
        "outputId": "db4b195f-1e2d-4bce-c0e0-f9eb9797f883"
      },
      "source": [
        "!pip install contractions\n",
        "!pip install emot"
      ],
      "execution_count": null,
      "outputs": [
        {
          "output_type": "stream",
          "text": [
            "Collecting contractions\n",
            "  Downloading https://files.pythonhosted.org/packages/0a/04/d5e0bb9f2cef5d15616ebf68087a725c5dbdd71bd422bcfb35d709f98ce7/contractions-0.0.48-py2.py3-none-any.whl\n",
            "Collecting textsearch>=0.0.21\n",
            "  Downloading https://files.pythonhosted.org/packages/d3/fe/021d7d76961b5ceb9f8d022c4138461d83beff36c3938dc424586085e559/textsearch-0.0.21-py2.py3-none-any.whl\n",
            "Collecting pyahocorasick\n",
            "\u001b[?25l  Downloading https://files.pythonhosted.org/packages/4a/92/b3c70b8cf2b76f7e3e8b7243d6f06f7cb3bab6ada237b1bce57604c5c519/pyahocorasick-1.4.1.tar.gz (321kB)\n",
            "\u001b[K     |████████████████████████████████| 327kB 6.8MB/s \n",
            "\u001b[?25hCollecting anyascii\n",
            "\u001b[?25l  Downloading https://files.pythonhosted.org/packages/09/c7/61370d9e3c349478e89a5554c1e5d9658e1e3116cc4f2528f568909ebdf1/anyascii-0.1.7-py3-none-any.whl (260kB)\n",
            "\u001b[K     |████████████████████████████████| 266kB 11.5MB/s \n",
            "\u001b[?25hBuilding wheels for collected packages: pyahocorasick\n",
            "  Building wheel for pyahocorasick (setup.py) ... \u001b[?25l\u001b[?25hdone\n",
            "  Created wheel for pyahocorasick: filename=pyahocorasick-1.4.1-cp37-cp37m-linux_x86_64.whl size=85274 sha256=c71b9c8bbcd96509d16eeaf9ed0bb1c8170a5009d5309b0f9881dda2e9667a3e\n",
            "  Stored in directory: /root/.cache/pip/wheels/e4/ab/f7/cb39270df8f6126f3dd4c33d302357167086db460968cfc80c\n",
            "Successfully built pyahocorasick\n",
            "Installing collected packages: pyahocorasick, anyascii, textsearch, contractions\n",
            "Successfully installed anyascii-0.1.7 contractions-0.0.48 pyahocorasick-1.4.1 textsearch-0.0.21\n",
            "Collecting emot\n",
            "  Downloading https://files.pythonhosted.org/packages/49/07/20001ade19873de611b7b66a4d5e5aabbf190d65abea337d5deeaa2bc3de/emot-2.1-py3-none-any.whl\n",
            "Installing collected packages: emot\n",
            "Successfully installed emot-2.1\n"
          ],
          "name": "stdout"
        }
      ]
    },
    {
      "cell_type": "markdown",
      "metadata": {
        "id": "DOm5O4dtSmsw"
      },
      "source": [
        "# Import Modules\n",
        "Import modules for preprocessing"
      ]
    },
    {
      "cell_type": "code",
      "metadata": {
        "id": "xDcMGUXmMUlr"
      },
      "source": [
        "#Import modules\n",
        "import html #import 'html' module to clean html elements such as '&amp;, &lt' etc.\n",
        "import numpy as np\n",
        "import pandas as pd\n",
        "import contractions #import 'contractions' module to expand linguistic contactions (e.g. it's = it is)\n",
        "from emot import UNICODE_EMO #import emoji dictionary to transform emojis into text\n",
        "import re\n",
        "import seaborn as sns\n",
        "import matplotlib.pyplot as plt\n",
        "from matplotlib.gridspec import GridSpec"
      ],
      "execution_count": null,
      "outputs": []
    },
    {
      "cell_type": "markdown",
      "metadata": {
        "id": "4MKar_aiSqGJ"
      },
      "source": [
        "# Import Data\n",
        "Import data from TweetEval Github"
      ]
    },
    {
      "cell_type": "code",
      "metadata": {
        "id": "d2vc0edv2eYr"
      },
      "source": [
        "#Import files for the 'Emotion' task\n",
        "data_emotion_test = pd.read_csv(f\"https://raw.githubusercontent.com/cardiffnlp/tweeteval/main/datasets/emotion/test_text.txt\", \n",
        "                                delimiter='\\t', dtype=str, header= None)\n",
        "data_emotion_test_labels = pd.read_csv(f\"https://raw.githubusercontent.com/cardiffnlp/tweeteval/main/datasets/emotion/test_labels.txt\", \n",
        "                                      delimiter='\\t', dtype=str, header= None)\n",
        "data_emotion_mapping = pd.read_csv(f\"https://raw.githubusercontent.com/cardiffnlp/tweeteval/main/datasets/emotion/mapping.txt\", \n",
        "                                      delimiter='\\t', dtype=str, header= None)\n",
        "data_emotion_train = pd.read_csv(f\"https://raw.githubusercontent.com/cardiffnlp/tweeteval/main/datasets/emotion/train_text.txt\", \n",
        "                                      delimiter='\\t', dtype=str, header= None)\n",
        "data_emotion_train_labels = pd.read_csv(f\"https://raw.githubusercontent.com/cardiffnlp/tweeteval/main/datasets/emotion/train_labels.txt\", \n",
        "                                      delimiter='\\t', dtype=str, header= None)\n",
        "data_emotion_val = pd.read_csv(f\"https://raw.githubusercontent.com/cardiffnlp/tweeteval/main/datasets/emotion/val_text.txt\", \n",
        "                                      delimiter='\\t', dtype=str, header= None)\n",
        "data_emotion_val_labels = pd.read_csv(f\"https://raw.githubusercontent.com/cardiffnlp/tweeteval/main/datasets/emotion/val_labels.txt\", \n",
        "                                      delimiter='\\t', dtype=str, header= None)\n",
        "\n",
        "#Assign column names for Emotion datasets\n",
        "data_emotion_test.columns =['content']\n",
        "data_emotion_test_labels.columns =['labels']\n",
        "data_emotion_mapping.columns =['labels','mapping']\n",
        "data_emotion_train.columns =['content']\n",
        "data_emotion_train_labels.columns =['labels']\n",
        "data_emotion_val.columns =['content']\n",
        "data_emotion_val_labels.columns =['labels'] "
      ],
      "execution_count": null,
      "outputs": []
    },
    {
      "cell_type": "markdown",
      "metadata": {
        "id": "a7vYzjZOS4wt"
      },
      "source": [
        "# Preprocessing"
      ]
    },
    {
      "cell_type": "markdown",
      "metadata": {
        "id": "GOoEHhzEw9YE"
      },
      "source": [
        "##Replace misspelled words\n",
        "\n",
        "Typos are common in text data and the scripts below create a dictionary of commonly mispelled words and applies it against the 3 'text' sets"
      ]
    },
    {
      "cell_type": "code",
      "metadata": {
        "colab": {
          "base_uri": "https://localhost:8080/"
        },
        "id": "fse8feXLnQUd",
        "outputId": "f2dd0e99-c11b-4c33-8c0a-7fac1cf2c13f"
      },
      "source": [
        "#Import misspelling data as dictionary\n",
        "misspell_data = pd.read_csv(\"https://raw.githubusercontent.com/glitch-y/CE888-Project/main/1.%20Dictionaries/Misspelling.txt\",sep=\":\",names=[\"correction\",\"misspell\"])\n",
        "misspell_data.misspell = misspell_data.misspell.str.strip()\n",
        "misspell_data.misspell = misspell_data.misspell.str.split(\" \")\n",
        "misspell_data = misspell_data.explode(\"misspell\").reset_index(drop=True)\n",
        "misspell_data.drop_duplicates(\"misspell\",inplace=True)\n",
        "miss_corr = dict(zip(misspell_data.misspell, misspell_data.correction))\n",
        "\n",
        "#Preview misspelling dictionary\n",
        "{v:miss_corr[v] for v in [list(miss_corr.keys())[k] for k in range(10)]}\n"
      ],
      "execution_count": null,
      "outputs": [
        {
          "output_type": "execute_result",
          "data": {
            "text/plain": [
              "{'Steffen': 'Stephen',\n",
              " 'abilitey': 'ability',\n",
              " 'abouy': 'about',\n",
              " 'absorbtion': 'absorption',\n",
              " 'accidently': 'accidentally',\n",
              " 'accomodate': 'accommodate',\n",
              " 'nevade': 'Nevada',\n",
              " 'presbyterian': 'Presbyterian',\n",
              " 'rsx': 'RSX',\n",
              " 'susan': 'Susan'}"
            ]
          },
          "metadata": {
            "tags": []
          },
          "execution_count": 5
        }
      ]
    },
    {
      "cell_type": "code",
      "metadata": {
        "id": "sk52rg9YZPZG"
      },
      "source": [
        "#Create misspelling correction function\n",
        "def misspelled_correction(x):\n",
        "    for i in x.split(): \n",
        "        if i in miss_corr.keys(): \n",
        "            x = x.replace(i, miss_corr[i]) \n",
        "    return x\n",
        "\n",
        "#Apply misspelling correction to text dataframes as new column\n",
        "data_emotion_test['content_clean'] = data_emotion_test.content.apply(lambda x : misspelled_correction(x).lower())\n",
        "data_emotion_train['content_clean'] = data_emotion_train.content.apply(lambda x : misspelled_correction(x).lower())\n",
        "data_emotion_val['content_clean'] = data_emotion_val.content.apply(lambda x : misspelled_correction(x).lower())"
      ],
      "execution_count": null,
      "outputs": []
    },
    {
      "cell_type": "markdown",
      "metadata": {
        "id": "OhrycsD0xlYx"
      },
      "source": [
        "##Replace abbreviated words\n",
        "\n",
        "Social media users normally use abbreviated text due to the fast nature of writing a post as well as certain limitations in terms of characters (a well-known aspect of Twitter. \n",
        "\n",
        "The script below create a dictionary of commonly known internet abbreviations and applies it against the 3 'text' data sets."
      ]
    },
    {
      "cell_type": "code",
      "metadata": {
        "colab": {
          "base_uri": "https://localhost:8080/"
        },
        "id": "G1suRDHNoe4M",
        "outputId": "1383afb5-5204-4602-b61e-6987836eb14b"
      },
      "source": [
        "#Abbreviated chat words conversion\n",
        "#Create Dictionary\n",
        "chat_dictionary = pd.read_csv(\"https://raw.githubusercontent.com/glitch-y/CE888-Project/main/1.%20Dictionaries/SlangDictionary.csv\",dtype=str, names=[\"Slang\", \"Translation\"])\n",
        "chat_dictionary=chat_dictionary.apply(lambda x: x.str.lower())\n",
        "slang_corr = dict(zip(chat_dictionary.Slang, chat_dictionary.Translation))\n",
        "\n",
        "#Preview abbreviation dictionary\n",
        "{v:slang_corr[v] for v in [list(slang_corr.keys())[k] for k in range(10)]}"
      ],
      "execution_count": null,
      "outputs": [
        {
          "output_type": "execute_result",
          "data": {
            "text/plain": [
              "{'a.s.a.p.': 'as soon as possible',\n",
              " 'ama': 'ask me anything',\n",
              " 'asap': 'as soon as possible',\n",
              " 'atk': 'at the keyboard',\n",
              " 'atm': 'at the moment',\n",
              " 'bbl': 'be back later',\n",
              " 'bbs': 'be back soon',\n",
              " 'bc': 'because',\n",
              " 'bcs': 'because',\n",
              " 'bfn': 'bye for now'}"
            ]
          },
          "metadata": {
            "tags": []
          },
          "execution_count": 7
        }
      ]
    },
    {
      "cell_type": "code",
      "metadata": {
        "colab": {
          "base_uri": "https://localhost:8080/",
          "height": 204
        },
        "id": "wO1rOaviyD4-",
        "outputId": "5df6f3ec-3324-49f4-9f6b-db592098f3b6"
      },
      "source": [
        "#Create abbreviation replacement function\n",
        "def abbrev_replace(x):\n",
        "    for i in x.split(): \n",
        "        if i in slang_corr.keys(): \n",
        "            x = x.replace(i, slang_corr[i]) \n",
        "    return x\n",
        "\n",
        "#Apply misspelling correction to dataframe as new column\n",
        "data_emotion_test.content_clean = data_emotion_test.content_clean.apply(lambda x : abbrev_replace(x))\n",
        "data_emotion_train.content_clean = data_emotion_train.content_clean.apply(lambda x : abbrev_replace(x))\n",
        "data_emotion_val.content_clean = data_emotion_val.content_clean.apply(lambda x : abbrev_replace(x))\n",
        "\n",
        "#Check\n",
        "data_emotion_train.head()"
      ],
      "execution_count": null,
      "outputs": [
        {
          "output_type": "execute_result",
          "data": {
            "text/html": [
              "<div>\n",
              "<style scoped>\n",
              "    .dataframe tbody tr th:only-of-type {\n",
              "        vertical-align: middle;\n",
              "    }\n",
              "\n",
              "    .dataframe tbody tr th {\n",
              "        vertical-align: top;\n",
              "    }\n",
              "\n",
              "    .dataframe thead th {\n",
              "        text-align: right;\n",
              "    }\n",
              "</style>\n",
              "<table border=\"1\" class=\"dataframe\">\n",
              "  <thead>\n",
              "    <tr style=\"text-align: right;\">\n",
              "      <th></th>\n",
              "      <th>content</th>\n",
              "      <th>content_clean</th>\n",
              "    </tr>\n",
              "  </thead>\n",
              "  <tbody>\n",
              "    <tr>\n",
              "      <th>0</th>\n",
              "      <td>“Worry is a down payment on a problem you may ...</td>\n",
              "      <td>“worry is a down payment on a problem you may ...</td>\n",
              "    </tr>\n",
              "    <tr>\n",
              "      <th>1</th>\n",
              "      <td>My roommate: it's okay that we can't spell bec...</td>\n",
              "      <td>my roommate: it's okay that we can't spell bec...</td>\n",
              "    </tr>\n",
              "    <tr>\n",
              "      <th>2</th>\n",
              "      <td>No but that's so cute. Atsu was probably shy a...</td>\n",
              "      <td>no but that's so cute. atsu was probably shy a...</td>\n",
              "    </tr>\n",
              "    <tr>\n",
              "      <th>3</th>\n",
              "      <td>Rooneys fucking untouchable isn't he? Been fuc...</td>\n",
              "      <td>rooneys fucking untouchable isn't he? been fuc...</td>\n",
              "    </tr>\n",
              "    <tr>\n",
              "      <th>4</th>\n",
              "      <td>it's pretty depressing when u hit pan on ur fa...</td>\n",
              "      <td>it's pretty depressing when u hit pan on  your...</td>\n",
              "    </tr>\n",
              "  </tbody>\n",
              "</table>\n",
              "</div>"
            ],
            "text/plain": [
              "                                             content                                      content_clean\n",
              "0  “Worry is a down payment on a problem you may ...  “worry is a down payment on a problem you may ...\n",
              "1  My roommate: it's okay that we can't spell bec...  my roommate: it's okay that we can't spell bec...\n",
              "2  No but that's so cute. Atsu was probably shy a...  no but that's so cute. atsu was probably shy a...\n",
              "3  Rooneys fucking untouchable isn't he? Been fuc...  rooneys fucking untouchable isn't he? been fuc...\n",
              "4  it's pretty depressing when u hit pan on ur fa...  it's pretty depressing when u hit pan on  your..."
            ]
          },
          "metadata": {
            "tags": []
          },
          "execution_count": 8
        }
      ]
    },
    {
      "cell_type": "markdown",
      "metadata": {
        "id": "e0fTqmV5yha_"
      },
      "source": [
        "##Remove HTML elements\n",
        "\n",
        "Data scraped from various websites usually returns certain html elements such as '&amp;' for '&'\n",
        "\n",
        "The script below uses the 'html' module to clean the data of any such occurences"
      ]
    },
    {
      "cell_type": "code",
      "metadata": {
        "colab": {
          "base_uri": "https://localhost:8080/"
        },
        "id": "KmSxVYV_0GYV",
        "outputId": "6ad59e65-f5dc-472c-ae97-50996fe9e245"
      },
      "source": [
        "#clean HTML charachters such as &amp;, &lt; etc using 'html' module\n",
        "data_emotion_test.content_clean = data_emotion_test.content_clean.apply(lambda x: html.unescape(x))\n",
        "data_emotion_train.content_clean = data_emotion_train.content_clean.apply(lambda x: html.unescape(x))\n",
        "data_emotion_val.content_clean = data_emotion_val.content_clean.apply(lambda x: html.unescape(x))\n",
        "\n",
        "#Check\n",
        "print(data_emotion_test.loc[[12]])"
      ],
      "execution_count": null,
      "outputs": [
        {
          "output_type": "stream",
          "text": [
            "                                              content                                      content_clean\n",
            "12  Yes #depression &amp; #anxiety are real but so...  yes #depression & #anxiety are real but so is ...\n"
          ],
          "name": "stdout"
        }
      ]
    },
    {
      "cell_type": "markdown",
      "metadata": {
        "id": "-q5SXhUszBir"
      },
      "source": [
        "##Fix language contractions\n",
        "\n",
        "The script below uses the 'contractions' module to expand any language contractions such as 'let's' into 'let us' or 'it's' into 'it is'"
      ]
    },
    {
      "cell_type": "code",
      "metadata": {
        "colab": {
          "base_uri": "https://localhost:8080/"
        },
        "id": "wIib9xFv5rkS",
        "outputId": "7153ec78-8328-418e-c902-114c53a47838"
      },
      "source": [
        "#fix contractions; i.e. 'It's' transforms into 'it is'\n",
        "data_emotion_test.content_clean = data_emotion_test.content_clean.apply(lambda x: contractions.fix(x))\n",
        "data_emotion_train.content_clean = data_emotion_train.content_clean.apply(lambda x: contractions.fix(x))\n",
        "data_emotion_val.content_clean = data_emotion_val.content_clean.apply(lambda x: contractions.fix(x))\n",
        "\n",
        "#Check\n",
        "print(data_emotion_test.loc[[54]])"
      ],
      "execution_count": null,
      "outputs": [
        {
          "output_type": "stream",
          "text": [
            "                                              content                                      content_clean\n",
            "54  Let's start all over again.....\\n#feels #lover...  let us start all over again.....\\n#feels #love...\n"
          ],
          "name": "stdout"
        }
      ]
    },
    {
      "cell_type": "markdown",
      "metadata": {
        "id": "xpGtSXcrz9aG"
      },
      "source": [
        "##Remove 'newlines' and replace '&' with 'and'\n"
      ]
    },
    {
      "cell_type": "code",
      "metadata": {
        "colab": {
          "base_uri": "https://localhost:8080/"
        },
        "id": "91OK_1gd77sz",
        "outputId": "0dc2b3e4-c51d-4c29-9826-164f98f0ccf1"
      },
      "source": [
        "#Remove newlines from data and replace '&' with 'and'\n",
        "data_emotion_test.content_clean = data_emotion_test.content_clean.replace(r'\\\\n',' ', regex=True)\n",
        "data_emotion_test.content_clean = data_emotion_test.content_clean.replace(r'&','and', regex=True)\n",
        "\n",
        "data_emotion_train.content_clean = data_emotion_train.content_clean.replace(r'\\\\n',' ', regex=True)\n",
        "data_emotion_train.content_clean = data_emotion_train.content_clean.replace(r'&','and', regex=True)\n",
        "\n",
        "data_emotion_val.content_clean = data_emotion_val.content_clean.replace(r'\\\\n',' ', regex=True)\n",
        "data_emotion_val.content_clean = data_emotion_val.content_clean.replace(r'&','and', regex=True)\n",
        "\n",
        "#Check\n",
        "print(data_emotion_test.loc[[34]])\n",
        "print(data_emotion_test.loc[[12]])"
      ],
      "execution_count": null,
      "outputs": [
        {
          "output_type": "stream",
          "text": [
            "                                              content                                      content_clean\n",
            "34  @user -- can handle myself.\\n[Carl yelled back...  @user -- can handle myself. [carl yelled back ...\n",
            "                                              content                                      content_clean\n",
            "12  Yes #depression &amp; #anxiety are real but so...  yes #depression and #anxiety are real but so i...\n"
          ],
          "name": "stdout"
        }
      ]
    },
    {
      "cell_type": "markdown",
      "metadata": {
        "id": "ybOwJ8qZ0nOd"
      },
      "source": [
        "##Convert emojis into text\n",
        "\n",
        "Emoji's describe a variety of emotions or objects which can help increase the accuracy of the algorithm. \n",
        "\n",
        "The script below uses the 'emot' module to lookup emoji's in the module dictionary and translate them into text.\n"
      ]
    },
    {
      "cell_type": "code",
      "metadata": {
        "colab": {
          "base_uri": "https://localhost:8080/"
        },
        "id": "p5M4iqt_EFII",
        "outputId": "3c98c935-7355-468b-8de9-9a9d444aa159"
      },
      "source": [
        "#convert emojis into text\n",
        "def convert_emojis(x):\n",
        "    for emot in UNICODE_EMO:\n",
        "        x = x.replace(emot, \"_\".join(UNICODE_EMO[emot].replace(\",\",\"\").replace(\":\",\"\").split()))\n",
        "    return x\n",
        "\n",
        "data_emotion_test.content_clean = data_emotion_test.content_clean.apply(lambda x: convert_emojis(x))\n",
        "data_emotion_train.content_clean = data_emotion_train.content_clean.apply(lambda x: convert_emojis(x))\n",
        "data_emotion_val.content_clean = data_emotion_val.content_clean.apply(lambda x: convert_emojis(x))\n",
        "\n",
        "#Check\n",
        "print(data_emotion_test.loc[[105]])"
      ],
      "execution_count": null,
      "outputs": [
        {
          "output_type": "stream",
          "text": [
            "                     content                                      content_clean\n",
            "105  @user Wise you mean? 😅   @user wise you mean? smiling_face_with_open_mo...\n"
          ],
          "name": "stdout"
        }
      ]
    },
    {
      "cell_type": "markdown",
      "metadata": {
        "id": "4NCzNhj91Wfh"
      },
      "source": [
        "##Remove unnecessary punctuation\n",
        "\n",
        "Certain types of punctuation is not of particular use and is removed using the script below. \n",
        "\n",
        "However, commas, periods, exclamation marks, question marks apostrophes have not been taken out as they help set the tone or define the relationships between words.\n"
      ]
    },
    {
      "cell_type": "code",
      "metadata": {
        "id": "YGlUUihvFZbB"
      },
      "source": [
        "#Remove unnecessary punctuation\n",
        "def punctuation(x): \n",
        "  \n",
        "    punctuations = '()-[]{};:\\<>/#$%^&_~'\n",
        "  \n",
        "    for i in x.lower(): \n",
        "        if i in punctuations: \n",
        "            x = x.replace(i, \" \") \n",
        "    return x\n",
        "\n",
        "data_emotion_test.content_clean = data_emotion_test.content_clean.apply(lambda x: punctuation(x))\n",
        "data_emotion_train.content_clean = data_emotion_train.content_clean.apply(lambda x: punctuation(x))\n",
        "data_emotion_val.content_clean = data_emotion_val.content_clean.apply(lambda x: punctuation(x))"
      ],
      "execution_count": null,
      "outputs": []
    },
    {
      "cell_type": "markdown",
      "metadata": {
        "id": "YwydchOn2GL8"
      },
      "source": [
        "##Remove '@user' mentions\n"
      ]
    },
    {
      "cell_type": "code",
      "metadata": {
        "colab": {
          "base_uri": "https://localhost:8080/",
          "height": 204
        },
        "id": "zFNXmcBvP9Ul",
        "outputId": "7d54fcf8-eb77-4390-dab2-eceda34e0ff4"
      },
      "source": [
        "#Remove @user mentions\n",
        "data_emotion_test.content_clean = data_emotion_test.content_clean.str.replace('@user','')\n",
        "data_emotion_train.content_clean = data_emotion_train.content_clean.str.replace('@user','')\n",
        "data_emotion_val.content_clean = data_emotion_val.content_clean.str.replace('@user','')\n",
        "\n",
        "\n",
        "data_emotion_test.head()"
      ],
      "execution_count": null,
      "outputs": [
        {
          "output_type": "execute_result",
          "data": {
            "text/html": [
              "<div>\n",
              "<style scoped>\n",
              "    .dataframe tbody tr th:only-of-type {\n",
              "        vertical-align: middle;\n",
              "    }\n",
              "\n",
              "    .dataframe tbody tr th {\n",
              "        vertical-align: top;\n",
              "    }\n",
              "\n",
              "    .dataframe thead th {\n",
              "        text-align: right;\n",
              "    }\n",
              "</style>\n",
              "<table border=\"1\" class=\"dataframe\">\n",
              "  <thead>\n",
              "    <tr style=\"text-align: right;\">\n",
              "      <th></th>\n",
              "      <th>content</th>\n",
              "      <th>content_clean</th>\n",
              "    </tr>\n",
              "  </thead>\n",
              "  <tbody>\n",
              "    <tr>\n",
              "      <th>0</th>\n",
              "      <td>#Deppression is real. Partners w/ #depressed p...</td>\n",
              "      <td>deppression is real. partners with   depresse...</td>\n",
              "    </tr>\n",
              "    <tr>\n",
              "      <th>1</th>\n",
              "      <td>@user Interesting choice of words... Are you c...</td>\n",
              "      <td>interesting choice of words... are you confir...</td>\n",
              "    </tr>\n",
              "    <tr>\n",
              "      <th>2</th>\n",
              "      <td>My visit to hospital for care triggered #traum...</td>\n",
              "      <td>my visit to hospital for care triggered  traum...</td>\n",
              "    </tr>\n",
              "    <tr>\n",
              "      <th>3</th>\n",
              "      <td>@user Welcome to #MPSVT! We are delighted to h...</td>\n",
              "      <td>welcome to  mpsvt! we are delighted to have y...</td>\n",
              "    </tr>\n",
              "    <tr>\n",
              "      <th>4</th>\n",
              "      <td>What makes you feel #joyful?</td>\n",
              "      <td>what makes you feel  joyful?</td>\n",
              "    </tr>\n",
              "  </tbody>\n",
              "</table>\n",
              "</div>"
            ],
            "text/plain": [
              "                                             content                                      content_clean\n",
              "0  #Deppression is real. Partners w/ #depressed p...   deppression is real. partners with   depresse...\n",
              "1  @user Interesting choice of words... Are you c...   interesting choice of words... are you confir...\n",
              "2  My visit to hospital for care triggered #traum...  my visit to hospital for care triggered  traum...\n",
              "3  @user Welcome to #MPSVT! We are delighted to h...   welcome to  mpsvt! we are delighted to have y...\n",
              "4                      What makes you feel #joyful?                       what makes you feel  joyful? "
            ]
          },
          "metadata": {
            "tags": []
          },
          "execution_count": 14
        }
      ]
    },
    {
      "cell_type": "markdown",
      "metadata": {
        "id": "P5mY7V1z6Zv_"
      },
      "source": [
        "##Assign labels to Tweet datasets\n",
        "\n",
        "The script below assigns the labels to the 3 separate 'text' files."
      ]
    },
    {
      "cell_type": "code",
      "metadata": {
        "id": "QNKaYopE4Zi3"
      },
      "source": [
        "#Test Data\n",
        "data_emotion_test.reset_index(inplace=True)\n",
        "data_emotion_test_labels.reset_index(inplace=True)\n",
        "processed_emotion_test=data_emotion_test.merge(data_emotion_test_labels)\n",
        "\n",
        "#Train Data\n",
        "data_emotion_train.reset_index(inplace=True)\n",
        "data_emotion_train_labels.reset_index(inplace=True)\n",
        "processed_emotion_train=data_emotion_train.merge(data_emotion_train_labels)\n",
        "\n",
        "#Val Data\n",
        "data_emotion_val.reset_index(inplace=True)\n",
        "data_emotion_val_labels.reset_index(inplace=True)\n",
        "processed_emotion_val=data_emotion_val.merge(data_emotion_val_labels)"
      ],
      "execution_count": null,
      "outputs": []
    },
    {
      "cell_type": "markdown",
      "metadata": {
        "id": "NWe27N-0EsNk"
      },
      "source": [
        "##Map labels\n",
        "Map each row with the respective emotion, based on the values in column 'Labels'\n"
      ]
    },
    {
      "cell_type": "code",
      "metadata": {
        "id": "rDJE5Rf0BvlJ",
        "colab": {
          "base_uri": "https://localhost:8080/"
        },
        "outputId": "6a646730-50cd-4c2c-d25e-b166477e4d7e"
      },
      "source": [
        "#Emotion test data mapping\n",
        "mapped_emotion_test=processed_emotion_test[['labels','content_clean']].merge(data_emotion_mapping,how='left')\n",
        "\n",
        "#Check\n",
        "print(mapped_emotion_test)"
      ],
      "execution_count": null,
      "outputs": [
        {
          "output_type": "stream",
          "text": [
            "     labels                                      content_clean  mapping\n",
            "0         3   deppression is real. partners with   depresse...  sadness\n",
            "1         0   interesting choice of words... are you confir...    anger\n",
            "2         3  my visit to hospital for care triggered  traum...  sadness\n",
            "3         1   welcome to  mpsvt! we are delighted to have y...      joy\n",
            "4         1                      what makes you feel  joyful?       joy\n",
            "...     ...                                                ...      ...\n",
            "1416      1  i need a sparkling bodysuit . no occasion. jus...      joy\n",
            "1417      3   I have finished reading it  simply mind blogg...  sadness\n",
            "1418      0  shaft abrasions from panties merely shifted to...    anger\n",
            "1419      0  all this fake outrage. you all need to stop ro...    anger\n",
            "1420      1  would be ever so grateful if you could record ...      joy\n",
            "\n",
            "[1421 rows x 3 columns]\n"
          ],
          "name": "stdout"
        }
      ]
    },
    {
      "cell_type": "code",
      "metadata": {
        "id": "HqZczE1BFHEh",
        "colab": {
          "base_uri": "https://localhost:8080/"
        },
        "outputId": "bab6ce2a-5ff7-4029-87aa-fee4e20070de"
      },
      "source": [
        "#Emotion train data mapping\n",
        "mapped_emotion_train=processed_emotion_train[['labels','content_clean']].merge(data_emotion_mapping,how='left')\n",
        "\n",
        "#Check\n",
        "print(mapped_emotion_train)"
      ],
      "execution_count": null,
      "outputs": [
        {
          "output_type": "stream",
          "text": [
            "     labels                                      content_clean   mapping\n",
            "0         2  “worry is a down payment on a problem you may ...  optimism\n",
            "1         0  my roommate  it is okay that we can not spell ...     anger\n",
            "2         1  no but that is so cute. atsu was probably shy ...       joy\n",
            "3         0  rooneys fucking untouchable is not he? been fu...     anger\n",
            "4         3  it is pretty depressing when you hit pan on  y...   sadness\n",
            "...     ...                                                ...       ...\n",
            "3252      3  i get discouraged because i try for 5 fucking ...   sadness\n",
            "3253      3  the  are in contention and hosting  nation and...   sadness\n",
            "3254      0       as a fellow up grad, i shiver at the shal...     anger\n",
            "3255      0  you have a  problem? yes! can you do  somethin...     anger\n",
            "3256      0    i will fight this guy! do not insult the lio...     anger\n",
            "\n",
            "[3257 rows x 3 columns]\n"
          ],
          "name": "stdout"
        }
      ]
    },
    {
      "cell_type": "code",
      "metadata": {
        "id": "5eBd2CUXF61B",
        "colab": {
          "base_uri": "https://localhost:8080/"
        },
        "outputId": "aee2d8c3-fdbb-4c16-e68b-bd9c0e940476"
      },
      "source": [
        "#Emotion val data mapping\n",
        "mapped_emotion_val=processed_emotion_val[['labels','content_clean']].merge(data_emotion_mapping,how='left')\n",
        "\n",
        "#Check\n",
        "print(mapped_emotion_val)"
      ],
      "execution_count": null,
      "outputs": [
        {
          "output_type": "stream",
          "text": [
            "    labels                                      content_clean mapping\n",
            "0        0    oh, hidden revenge and anger...i rememberthe...   anger\n",
            "1        0  if not then  teamchristine because all tana ha...   anger\n",
            "2        0  hey   fields in  skibbereen give your online d...   anger\n",
            "3        0  why have  emmerdale had to rob  robron of havi...   anger\n",
            "4        0   i would like to hear a podcast of you going o...   anger\n",
            "..     ...                                                ...     ...\n",
            "369      0    if  trump  whitehouse are not held accountab...   anger\n",
            "370      0   which  chutiya  producer  invested in  crap  ...   anger\n",
            "371      0  russia story will infuriate trump today. media...   anger\n",
            "372      0              shit getting me irritated angry face    anger\n",
            "373      0    if this did not make me so angry, I would be...   anger\n",
            "\n",
            "[374 rows x 3 columns]\n"
          ],
          "name": "stdout"
        }
      ]
    },
    {
      "cell_type": "markdown",
      "metadata": {
        "id": "4GU4GfXkJExC"
      },
      "source": [
        "#Data Exploration"
      ]
    },
    {
      "cell_type": "code",
      "metadata": {
        "id": "JVIZrRZDJISg",
        "colab": {
          "base_uri": "https://localhost:8080/",
          "height": 450
        },
        "outputId": "6ed89110-6524-42b4-ab33-c002b7930c1d"
      },
      "source": [
        "#Exploration of 'Emotion Test Data'\n",
        "sns.set_theme(style=\"darkgrid\")\n",
        "sns.displot(mapped_emotion_test, x='mapping', hue='mapping',palette='rocket_r')\n",
        "print(mapped_emotion_test.mapping.value_counts())"
      ],
      "execution_count": null,
      "outputs": [
        {
          "output_type": "stream",
          "text": [
            "anger       558\n",
            "sadness     382\n",
            "joy         358\n",
            "optimism    123\n",
            "Name: mapping, dtype: int64\n"
          ],
          "name": "stdout"
        },
        {
          "output_type": "display_data",
          "data": {
            "image/png": "[encoded data removed]",
            "text/plain": [
              "<Figure size 451.225x360 with 1 Axes>"
            ]
          },
          "metadata": {
            "tags": []
          }
        }
      ]
    },
    {
      "cell_type": "code",
      "metadata": {
        "id": "vCoBGNOAPaxJ",
        "colab": {
          "base_uri": "https://localhost:8080/",
          "height": 450
        },
        "outputId": "02261ae6-87f1-4668-9d22-9908981fcc18"
      },
      "source": [
        "#Exploration of 'Emotion Train Data'\n",
        "sns.set_theme(style=\"darkgrid\")\n",
        "sns.displot(mapped_emotion_train, x='mapping', hue='mapping', palette='rocket_r')\n",
        "print(mapped_emotion_train.mapping.value_counts())"
      ],
      "execution_count": null,
      "outputs": [
        {
          "output_type": "stream",
          "text": [
            "anger       1400\n",
            "sadness      855\n",
            "joy          708\n",
            "optimism     294\n",
            "Name: mapping, dtype: int64\n"
          ],
          "name": "stdout"
        },
        {
          "output_type": "display_data",
          "data": {
            "image/png": "[encoded data removed]",
            "text/plain": [
              "<Figure size 451.225x360 with 1 Axes>"
            ]
          },
          "metadata": {
            "tags": []
          }
        }
      ]
    },
    {
      "cell_type": "code",
      "metadata": {
        "id": "EdutnaAHPjfY",
        "colab": {
          "base_uri": "https://localhost:8080/",
          "height": 450
        },
        "outputId": "bdf929c7-5ef6-4aa9-d178-b7bc1a8c2c45"
      },
      "source": [
        "#Exploration of 'Emotion Val Data'\n",
        "sns.set_theme(style=\"darkgrid\")\n",
        "sns.displot(mapped_emotion_val, x='mapping', hue='mapping', palette='rocket_r')\n",
        "print(mapped_emotion_val.mapping.value_counts())"
      ],
      "execution_count": null,
      "outputs": [
        {
          "output_type": "stream",
          "text": [
            "anger       160\n",
            "joy          97\n",
            "sadness      89\n",
            "optimism     28\n",
            "Name: mapping, dtype: int64\n"
          ],
          "name": "stdout"
        },
        {
          "output_type": "display_data",
          "data": {
            "image/png": "[encoded data removed]",
            "text/plain": [
              "<Figure size 451.225x360 with 1 Axes>"
            ]
          },
          "metadata": {
            "tags": []
          }
        }
      ]
    }
  ]
}