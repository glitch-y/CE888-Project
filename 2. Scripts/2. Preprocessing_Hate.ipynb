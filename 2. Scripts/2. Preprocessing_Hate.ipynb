{
  "nbformat": 4,
  "nbformat_minor": 0,
  "metadata": {
    "colab": {
      "name": "Preprocessing.ipynb",
      "provenance": [],
      "authorship_tag": "ABX9TyPu5untFvjxOTv8YlWp5MX6",
      "include_colab_link": true
    },
    "kernelspec": {
      "name": "python3",
      "display_name": "Python 3"
    }
  },
  "cells": [
    {
      "cell_type": "markdown",
      "metadata": {
        "id": "view-in-github",
        "colab_type": "text"
      },
      "source": [
        "<a href=\"https://colab.research.google.com/github/glitch-y/CE888-Project/blob/main/2.%20Scripts/2.%20Preprocessing_Hate.ipynb\" target=\"_parent\"><img src=\"https://colab.research.google.com/assets/colab-badge.svg\" alt=\"Open In Colab\"/></a>"
      ]
    },
    {
      "cell_type": "code",
      "metadata": {
        "id": "NYh7CIZk47j0",
        "colab": {
          "base_uri": "https://localhost:8080/"
        },
        "outputId": "23829fb4-9044-4be6-cdcb-63f89096e62d"
      },
      "source": [
        "!pip install contractions\n",
        "!pip install emot"
      ],
      "execution_count": 1,
      "outputs": [
        {
          "output_type": "stream",
          "text": [
            "Collecting contractions\n",
            "  Downloading https://files.pythonhosted.org/packages/0a/04/d5e0bb9f2cef5d15616ebf68087a725c5dbdd71bd422bcfb35d709f98ce7/contractions-0.0.48-py2.py3-none-any.whl\n",
            "Collecting textsearch>=0.0.21\n",
            "  Downloading https://files.pythonhosted.org/packages/d3/fe/021d7d76961b5ceb9f8d022c4138461d83beff36c3938dc424586085e559/textsearch-0.0.21-py2.py3-none-any.whl\n",
            "Collecting anyascii\n",
            "\u001b[?25l  Downloading https://files.pythonhosted.org/packages/09/c7/61370d9e3c349478e89a5554c1e5d9658e1e3116cc4f2528f568909ebdf1/anyascii-0.1.7-py3-none-any.whl (260kB)\n",
            "\u001b[K     |████████████████████████████████| 266kB 5.2MB/s \n",
            "\u001b[?25hCollecting pyahocorasick\n",
            "\u001b[?25l  Downloading https://files.pythonhosted.org/packages/4a/92/b3c70b8cf2b76f7e3e8b7243d6f06f7cb3bab6ada237b1bce57604c5c519/pyahocorasick-1.4.1.tar.gz (321kB)\n",
            "\u001b[K     |████████████████████████████████| 327kB 7.3MB/s \n",
            "\u001b[?25hBuilding wheels for collected packages: pyahocorasick\n",
            "  Building wheel for pyahocorasick (setup.py) ... \u001b[?25l\u001b[?25hdone\n",
            "  Created wheel for pyahocorasick: filename=pyahocorasick-1.4.1-cp37-cp37m-linux_x86_64.whl size=85265 sha256=202f826b42716f343bda66cda6141ebff355d1ca557049f6e27ff5f1ffb4346c\n",
            "  Stored in directory: /root/.cache/pip/wheels/e4/ab/f7/cb39270df8f6126f3dd4c33d302357167086db460968cfc80c\n",
            "Successfully built pyahocorasick\n",
            "Installing collected packages: anyascii, pyahocorasick, textsearch, contractions\n",
            "Successfully installed anyascii-0.1.7 contractions-0.0.48 pyahocorasick-1.4.1 textsearch-0.0.21\n",
            "Collecting emot\n",
            "  Downloading https://files.pythonhosted.org/packages/49/07/20001ade19873de611b7b66a4d5e5aabbf190d65abea337d5deeaa2bc3de/emot-2.1-py3-none-any.whl\n",
            "Installing collected packages: emot\n",
            "Successfully installed emot-2.1\n"
          ],
          "name": "stdout"
        }
      ]
    },
    {
      "cell_type": "markdown",
      "metadata": {
        "id": "DOm5O4dtSmsw"
      },
      "source": [
        "# Import Modules\n",
        "Import modules for preprocessing"
      ]
    },
    {
      "cell_type": "code",
      "metadata": {
        "id": "xDcMGUXmMUlr"
      },
      "source": [
        "#Import modules\n",
        "import html #import 'html' module to clean html elements such as '&amp;, &lt' etc.\n",
        "import numpy as np\n",
        "import pandas as pd\n",
        "import contractions #import 'contractions' module to expand linguistic contactions (e.g. it's = it is)\n",
        "from emot import UNICODE_EMO #import emoji dictionary to transform emojis into text\n",
        "import re\n",
        "import seaborn as sns"
      ],
      "execution_count": 2,
      "outputs": []
    },
    {
      "cell_type": "markdown",
      "metadata": {
        "id": "4MKar_aiSqGJ"
      },
      "source": [
        "# Import Data\n",
        "Import data from TweetEval Github"
      ]
    },
    {
      "cell_type": "code",
      "metadata": {
        "id": "d2vc0edv2eYr"
      },
      "source": [
        "#Import files for the 'hate' task\n",
        "data_hate_test = pd.read_csv(f\"https://raw.githubusercontent.com/cardiffnlp/tweeteval/main/datasets/hate/test_text.txt\", \n",
        "                                delimiter='\\t', dtype=str, header= None)\n",
        "data_hate_test_labels = pd.read_csv(f\"https://raw.githubusercontent.com/cardiffnlp/tweeteval/main/datasets/hate/test_labels.txt\", \n",
        "                                      delimiter='\\t', dtype=str, header= None)\n",
        "data_hate_mapping = pd.read_csv(f\"https://raw.githubusercontent.com/cardiffnlp/tweeteval/main/datasets/hate/mapping.txt\", \n",
        "                                      delimiter='\\t', dtype=str, header= None)\n",
        "data_hate_train = pd.read_csv(f\"https://raw.githubusercontent.com/cardiffnlp/tweeteval/main/datasets/hate/train_text.txt\", \n",
        "                                      delimiter='\\t', dtype=str, header= None)\n",
        "data_hate_train_labels = pd.read_csv(f\"https://raw.githubusercontent.com/cardiffnlp/tweeteval/main/datasets/hate/train_labels.txt\", \n",
        "                                      delimiter='\\t', dtype=str, header= None)\n",
        "data_hate_val = pd.read_csv(f\"https://raw.githubusercontent.com/cardiffnlp/tweeteval/main/datasets/hate/val_text.txt\", \n",
        "                                      delimiter='\\t', dtype=str, header= None)\n",
        "data_hate_val_labels = pd.read_csv(f\"https://raw.githubusercontent.com/cardiffnlp/tweeteval/main/datasets/hate/val_labels.txt\", \n",
        "                                      delimiter='\\t', dtype=str, header= None)\n",
        "\n",
        "#Assign column names for hate datasets\n",
        "data_hate_test.columns =['content']\n",
        "data_hate_test_labels.columns =['labels']\n",
        "data_hate_mapping.columns =['labels','mapping']\n",
        "data_hate_train.columns =['content']\n",
        "data_hate_train_labels.columns =['labels']\n",
        "data_hate_val.columns =['content']\n",
        "data_hate_val_labels.columns =['labels'] "
      ],
      "execution_count": 3,
      "outputs": []
    },
    {
      "cell_type": "markdown",
      "metadata": {
        "id": "a7vYzjZOS4wt"
      },
      "source": [
        "# Preprocessing"
      ]
    },
    {
      "cell_type": "markdown",
      "metadata": {
        "id": "GOoEHhzEw9YE"
      },
      "source": [
        "##Replace misspelled words\n",
        "\n",
        "Typos are common in text data and the scripts below create a dictionary of commonly mispelled words and applies it against the 3 'text' sets"
      ]
    },
    {
      "cell_type": "code",
      "metadata": {
        "colab": {
          "base_uri": "https://localhost:8080/"
        },
        "id": "fse8feXLnQUd",
        "outputId": "84477681-5ea6-4142-f4b8-009b7a953879"
      },
      "source": [
        "#Import misspelling data as dictionary\n",
        "misspell_data = pd.read_csv(\"https://raw.githubusercontent.com/glitch-y/CE888-Project/main/1.%20Dictionaries/Misspelling.txt\",sep=\":\",names=[\"correction\",\"misspell\"])\n",
        "misspell_data.misspell = misspell_data.misspell.str.strip()\n",
        "misspell_data.misspell = misspell_data.misspell.str.split(\" \")\n",
        "misspell_data = misspell_data.explode(\"misspell\").reset_index(drop=True)\n",
        "misspell_data.drop_duplicates(\"misspell\",inplace=True)\n",
        "miss_corr = dict(zip(misspell_data.misspell, misspell_data.correction))\n",
        "\n",
        "#Preview misspelling dictionary\n",
        "{v:miss_corr[v] for v in [list(miss_corr.keys())[k] for k in range(10)]}"
      ],
      "execution_count": 4,
      "outputs": [
        {
          "output_type": "execute_result",
          "data": {
            "text/plain": [
              "{'Steffen': 'Stephen',\n",
              " 'abilitey': 'ability',\n",
              " 'abouy': 'about',\n",
              " 'absorbtion': 'absorption',\n",
              " 'accidently': 'accidentally',\n",
              " 'bout': 'about',\n",
              " 'nevade': 'Nevada',\n",
              " 'presbyterian': 'Presbyterian',\n",
              " 'rsx': 'RSX',\n",
              " 'susan': 'Susan'}"
            ]
          },
          "metadata": {
            "tags": []
          },
          "execution_count": 4
        }
      ]
    },
    {
      "cell_type": "code",
      "metadata": {
        "id": "sk52rg9YZPZG"
      },
      "source": [
        "#Create misspelling correction function\n",
        "def misspelled_correction(x):\n",
        "    for i in x.split(): \n",
        "        if i in miss_corr.keys(): \n",
        "            x = x.replace(i, miss_corr[i]) \n",
        "    return x\n",
        "\n",
        "#Apply misspelling correction to text dataframes as new column\n",
        "data_hate_test['content_clean'] = data_hate_test.content.apply(lambda x : misspelled_correction(x).lower())\n",
        "data_hate_train['content_clean'] = data_hate_train.content.apply(lambda x : misspelled_correction(x).lower())\n",
        "data_hate_val['content_clean'] = data_hate_val.content.apply(lambda x : misspelled_correction(x).lower())"
      ],
      "execution_count": 5,
      "outputs": []
    },
    {
      "cell_type": "markdown",
      "metadata": {
        "id": "OhrycsD0xlYx"
      },
      "source": [
        "##Replace abbreviated words\n",
        "\n",
        "Social media users normally use abbreviated text due to the fast nature of writing a post as well as certain limitations in terms of characters (a well-known aspect of Twitter. \n",
        "\n",
        "The script below create a dictionary of commonly known internet abbreviations and applies it against the 3 'text' data sets."
      ]
    },
    {
      "cell_type": "code",
      "metadata": {
        "colab": {
          "base_uri": "https://localhost:8080/"
        },
        "id": "G1suRDHNoe4M",
        "outputId": "82f4d226-d8a5-4fe3-cf74-25a68c23bda7"
      },
      "source": [
        "#Abbreviated chat words conversion\n",
        "#Create Dictionary\n",
        "chat_dictionary = pd.read_csv(\"https://raw.githubusercontent.com/glitch-y/CE888-Project/main/1.%20Dictionaries/SlangDictionary.csv\",dtype=str, names=[\"Slang\", \"Translation\"])\n",
        "chat_dictionary=chat_dictionary.apply(lambda x: x.str.lower())\n",
        "slang_corr = dict(zip(chat_dictionary.Slang, chat_dictionary.Translation))\n",
        "\n",
        "#Preview abbreviation dictionary\n",
        "{v:slang_corr[v] for v in [list(slang_corr.keys())[k] for k in range(10)]}"
      ],
      "execution_count": 6,
      "outputs": [
        {
          "output_type": "execute_result",
          "data": {
            "text/plain": [
              "{'a.s.a.p.': 'as soon as possible',\n",
              " 'af': 'as fuck',\n",
              " 'ama': 'ask me anything',\n",
              " 'asap': 'as soon as possible',\n",
              " 'atk': 'at the keyboard',\n",
              " 'atm': 'at the moment',\n",
              " 'bbl': 'be back later',\n",
              " 'bcs': 'because',\n",
              " 'bcus': 'because',\n",
              " 'bcuz': 'because'}"
            ]
          },
          "metadata": {
            "tags": []
          },
          "execution_count": 6
        }
      ]
    },
    {
      "cell_type": "code",
      "metadata": {
        "colab": {
          "base_uri": "https://localhost:8080/",
          "height": 204
        },
        "id": "wO1rOaviyD4-",
        "outputId": "5f70d533-e8e3-4774-fa40-68a155abbadd"
      },
      "source": [
        "#Create abbreviation replacement function\n",
        "def abbrev_replace(x):\n",
        "    for i in x.split(): \n",
        "        if i in slang_corr.keys(): \n",
        "            x = x.replace(i, slang_corr[i]) \n",
        "    return x\n",
        "\n",
        "#Apply misspelling correction to dataframe as new column\n",
        "data_hate_test.content_clean = data_hate_test.content_clean.apply(lambda x : abbrev_replace(x))\n",
        "data_hate_train.content_clean = data_hate_train.content_clean.apply(lambda x : abbrev_replace(x))\n",
        "data_hate_val.content_clean = data_hate_val.content_clean.apply(lambda x : abbrev_replace(x))\n",
        "\n",
        "#Check\n",
        "data_hate_train.head()"
      ],
      "execution_count": 7,
      "outputs": [
        {
          "output_type": "execute_result",
          "data": {
            "text/html": [
              "<div>\n",
              "<style scoped>\n",
              "    .dataframe tbody tr th:only-of-type {\n",
              "        vertical-align: middle;\n",
              "    }\n",
              "\n",
              "    .dataframe tbody tr th {\n",
              "        vertical-align: top;\n",
              "    }\n",
              "\n",
              "    .dataframe thead th {\n",
              "        text-align: right;\n",
              "    }\n",
              "</style>\n",
              "<table border=\"1\" class=\"dataframe\">\n",
              "  <thead>\n",
              "    <tr style=\"text-align: right;\">\n",
              "      <th></th>\n",
              "      <th>content</th>\n",
              "      <th>content_clean</th>\n",
              "    </tr>\n",
              "  </thead>\n",
              "  <tbody>\n",
              "    <tr>\n",
              "      <th>0</th>\n",
              "      <td>@user nice new signage. Are you not concerned ...</td>\n",
              "      <td>@user nice new signage. are you not concerned ...</td>\n",
              "    </tr>\n",
              "    <tr>\n",
              "      <th>1</th>\n",
              "      <td>A woman who you fucked multiple times saying y...</td>\n",
              "      <td>a woman who you fucked multiple times saying y...</td>\n",
              "    </tr>\n",
              "    <tr>\n",
              "      <th>2</th>\n",
              "      <td>@user @user real talk do you have eyes or were...</td>\n",
              "      <td>@user @user real talk do you have eyes or were...</td>\n",
              "    </tr>\n",
              "    <tr>\n",
              "      <th>3</th>\n",
              "      <td>your girlfriend lookin at me like a groupie in...</td>\n",
              "      <td>your girlfriend lookin at me like a groupie in...</td>\n",
              "    </tr>\n",
              "    <tr>\n",
              "      <th>4</th>\n",
              "      <td>Hysterical woman like @user</td>\n",
              "      <td>hysterical woman like @user</td>\n",
              "    </tr>\n",
              "  </tbody>\n",
              "</table>\n",
              "</div>"
            ],
            "text/plain": [
              "                                             content                                      content_clean\n",
              "0  @user nice new signage. Are you not concerned ...  @user nice new signage. are you not concerned ...\n",
              "1  A woman who you fucked multiple times saying y...  a woman who you fucked multiple times saying y...\n",
              "2  @user @user real talk do you have eyes or were...  @user @user real talk do you have eyes or were...\n",
              "3  your girlfriend lookin at me like a groupie in...  your girlfriend lookin at me like a groupie in...\n",
              "4                       Hysterical woman like @user                        hysterical woman like @user "
            ]
          },
          "metadata": {
            "tags": []
          },
          "execution_count": 7
        }
      ]
    },
    {
      "cell_type": "markdown",
      "metadata": {
        "id": "e0fTqmV5yha_"
      },
      "source": [
        "##Remove HTML elements\n",
        "\n",
        "Data scraped from various websites usually returns certain html elements such as '&amp;' for '&'\n",
        "\n",
        "The script below uses the 'html' module to clean the data of any such occurences"
      ]
    },
    {
      "cell_type": "code",
      "metadata": {
        "id": "KmSxVYV_0GYV"
      },
      "source": [
        "#clean HTML charachters such as &amp;, &lt; etc using 'html' module\n",
        "data_hate_test.content_clean = data_hate_test.content_clean.apply(lambda x: html.unescape(x))\n",
        "data_hate_train.content_clean = data_hate_train.content_clean.apply(lambda x: html.unescape(x))\n",
        "data_hate_val.content_clean = data_hate_val.content_clean.apply(lambda x: html.unescape(x))"
      ],
      "execution_count": 8,
      "outputs": []
    },
    {
      "cell_type": "markdown",
      "metadata": {
        "id": "-q5SXhUszBir"
      },
      "source": [
        "##Fix language contractions\n",
        "\n",
        "The script below uses the 'contractions' module to expand any language contractions such as 'let's' into 'let us' or 'it's' into 'it is'"
      ]
    },
    {
      "cell_type": "code",
      "metadata": {
        "id": "wIib9xFv5rkS"
      },
      "source": [
        "#fix contractions; i.e. 'It's' transforms into 'it is'\n",
        "data_hate_test.content_clean = data_hate_test.content_clean.apply(lambda x: contractions.fix(x))\n",
        "data_hate_train.content_clean = data_hate_train.content_clean.apply(lambda x: contractions.fix(x))\n",
        "data_hate_val.content_clean = data_hate_val.content_clean.apply(lambda x: contractions.fix(x))"
      ],
      "execution_count": 9,
      "outputs": []
    },
    {
      "cell_type": "markdown",
      "metadata": {
        "id": "xpGtSXcrz9aG"
      },
      "source": [
        "##Remove 'newlines' and replace '&' with 'and'\n"
      ]
    },
    {
      "cell_type": "code",
      "metadata": {
        "id": "91OK_1gd77sz"
      },
      "source": [
        "#Remove newlines from data and replace '&' with 'and'\n",
        "data_hate_test.content_clean = data_hate_test.content_clean.replace(r'\\\\n',' ', regex=True)\n",
        "data_hate_test.content_clean = data_hate_test.content_clean.replace(r'&','and', regex=True)\n",
        "\n",
        "data_hate_train.content_clean = data_hate_train.content_clean.replace(r'\\\\n',' ', regex=True)\n",
        "data_hate_train.content_clean = data_hate_train.content_clean.replace(r'&','and', regex=True)\n",
        "\n",
        "data_hate_val.content_clean = data_hate_val.content_clean.replace(r'\\\\n',' ', regex=True)\n",
        "data_hate_val.content_clean = data_hate_val.content_clean.replace(r'&','and', regex=True)"
      ],
      "execution_count": 10,
      "outputs": []
    },
    {
      "cell_type": "markdown",
      "metadata": {
        "id": "ybOwJ8qZ0nOd"
      },
      "source": [
        "##Convert emojis into text\n",
        "\n",
        "Emoji's describe a variety of hates or objects which can help increase the accuracy of the algorithm. \n",
        "\n",
        "The script below uses the 'emot' module to lookup emoji's in the module dictionary and translate them into text.\n"
      ]
    },
    {
      "cell_type": "code",
      "metadata": {
        "id": "p5M4iqt_EFII"
      },
      "source": [
        "#convert emojis into text\n",
        "def convert_emojis(x):\n",
        "    for emot in UNICODE_EMO:\n",
        "        x = x.replace(emot, \"_\".join(UNICODE_EMO[emot].replace(\",\",\"\").replace(\":\",\"\").split()))\n",
        "    return x\n",
        "\n",
        "data_hate_test.content_clean = data_hate_test.content_clean.apply(lambda x: convert_emojis(x))\n",
        "data_hate_train.content_clean = data_hate_train.content_clean.apply(lambda x: convert_emojis(x))\n",
        "data_hate_val.content_clean = data_hate_val.content_clean.apply(lambda x: convert_emojis(x))"
      ],
      "execution_count": 11,
      "outputs": []
    },
    {
      "cell_type": "markdown",
      "metadata": {
        "id": "4NCzNhj91Wfh"
      },
      "source": [
        "##Remove unnecessary punctuation\n",
        "\n",
        "Certain types of punctuation is not of particular use and is removed using the script below. \n",
        "\n",
        "However, commas, periods, exclamation marks, question marks apostrophes have not been taken out as they help set the tone or define the relationships between words.\n"
      ]
    },
    {
      "cell_type": "code",
      "metadata": {
        "id": "YGlUUihvFZbB"
      },
      "source": [
        "#Remove unnecessary punctuation\n",
        "def punctuation(x): \n",
        "  \n",
        "    punctuations = '()-[]{};:\\<>/#$%^&_~'\n",
        "  \n",
        "    for i in x.lower(): \n",
        "        if i in punctuations: \n",
        "            x = x.replace(i, \" \") \n",
        "    return x\n",
        "\n",
        "data_hate_test.content_clean = data_hate_test.content_clean.apply(lambda x: punctuation(x))\n",
        "data_hate_train.content_clean = data_hate_train.content_clean.apply(lambda x: punctuation(x))\n",
        "data_hate_val.content_clean = data_hate_val.content_clean.apply(lambda x: punctuation(x))"
      ],
      "execution_count": 12,
      "outputs": []
    },
    {
      "cell_type": "markdown",
      "metadata": {
        "id": "YwydchOn2GL8"
      },
      "source": [
        "##Remove '@user' mentions\n"
      ]
    },
    {
      "cell_type": "code",
      "metadata": {
        "colab": {
          "base_uri": "https://localhost:8080/",
          "height": 204
        },
        "id": "zFNXmcBvP9Ul",
        "outputId": "fd84d71a-bf49-409e-aa05-9c06c8552de6"
      },
      "source": [
        "#Remove @user mentions\n",
        "data_hate_test.content_clean = data_hate_test.content_clean.str.replace('@user','')\n",
        "data_hate_train.content_clean = data_hate_train.content_clean.str.replace('@user','')\n",
        "data_hate_val.content_clean = data_hate_val.content_clean.str.replace('@user','')\n",
        "\n",
        "\n",
        "data_hate_test.head()"
      ],
      "execution_count": 13,
      "outputs": [
        {
          "output_type": "execute_result",
          "data": {
            "text/html": [
              "<div>\n",
              "<style scoped>\n",
              "    .dataframe tbody tr th:only-of-type {\n",
              "        vertical-align: middle;\n",
              "    }\n",
              "\n",
              "    .dataframe tbody tr th {\n",
              "        vertical-align: top;\n",
              "    }\n",
              "\n",
              "    .dataframe thead th {\n",
              "        text-align: right;\n",
              "    }\n",
              "</style>\n",
              "<table border=\"1\" class=\"dataframe\">\n",
              "  <thead>\n",
              "    <tr style=\"text-align: right;\">\n",
              "      <th></th>\n",
              "      <th>content</th>\n",
              "      <th>content_clean</th>\n",
              "    </tr>\n",
              "  </thead>\n",
              "  <tbody>\n",
              "    <tr>\n",
              "      <th>0</th>\n",
              "      <td>@user , you are correct that Reid certainly is...</td>\n",
              "      <td>, you are correct that reid certainly is a we...</td>\n",
              "    </tr>\n",
              "    <tr>\n",
              "      <th>1</th>\n",
              "      <td>Whoever just unfollowed me you a bitch</td>\n",
              "      <td>whoever just unfollowed me you a bitch</td>\n",
              "    </tr>\n",
              "    <tr>\n",
              "      <th>2</th>\n",
              "      <td>@user @user Those People Invaded Us!!! They DO...</td>\n",
              "      <td>those people invaded us!!! they do not belin...</td>\n",
              "    </tr>\n",
              "    <tr>\n",
              "      <th>3</th>\n",
              "      <td>stop JUDGING bitches by there cover, jus cuz s...</td>\n",
              "      <td>stop judging bitches by there cover, just beca...</td>\n",
              "    </tr>\n",
              "    <tr>\n",
              "      <th>4</th>\n",
              "      <td>how about i knock heads off and send them gift...</td>\n",
              "      <td>how about i knock heads off and send them gift...</td>\n",
              "    </tr>\n",
              "  </tbody>\n",
              "</table>\n",
              "</div>"
            ],
            "text/plain": [
              "                                             content                                      content_clean\n",
              "0  @user , you are correct that Reid certainly is...   , you are correct that reid certainly is a we...\n",
              "1            Whoever just unfollowed me you a bitch             whoever just unfollowed me you a bitch \n",
              "2  @user @user Those People Invaded Us!!! They DO...    those people invaded us!!! they do not belin...\n",
              "3  stop JUDGING bitches by there cover, jus cuz s...  stop judging bitches by there cover, just beca...\n",
              "4  how about i knock heads off and send them gift...  how about i knock heads off and send them gift..."
            ]
          },
          "metadata": {
            "tags": []
          },
          "execution_count": 13
        }
      ]
    },
    {
      "cell_type": "markdown",
      "metadata": {
        "id": "P5mY7V1z6Zv_"
      },
      "source": [
        "##Assign labels to Tweet datasets\n",
        "\n",
        "The script below assigns the labels to the 3 separate 'text' files."
      ]
    },
    {
      "cell_type": "code",
      "metadata": {
        "id": "QNKaYopE4Zi3"
      },
      "source": [
        "#Test Data\n",
        "data_hate_test.reset_index(inplace=True)\n",
        "data_hate_test_labels.reset_index(inplace=True)\n",
        "processed_hate_test=data_hate_test.merge(data_hate_test_labels)\n",
        "\n",
        "#Train Data\n",
        "data_hate_train.reset_index(inplace=True)\n",
        "data_hate_train_labels.reset_index(inplace=True)\n",
        "processed_hate_train=data_hate_train.merge(data_hate_train_labels)\n",
        "\n",
        "#Val Data\n",
        "data_hate_val.reset_index(inplace=True)\n",
        "data_hate_val_labels.reset_index(inplace=True)\n",
        "processed_hate_val=data_hate_val.merge(data_hate_val_labels)"
      ],
      "execution_count": 14,
      "outputs": []
    },
    {
      "cell_type": "markdown",
      "metadata": {
        "id": "NWe27N-0EsNk"
      },
      "source": [
        "##Map labels\n",
        "Map each row with the respective hate tags, based on the values in column 'Labels'\n"
      ]
    },
    {
      "cell_type": "code",
      "metadata": {
        "colab": {
          "base_uri": "https://localhost:8080/"
        },
        "id": "rDJE5Rf0BvlJ",
        "outputId": "2cba18a9-4b7a-40ad-e7ae-e22eef7b7d0e"
      },
      "source": [
        "#hate test data mapping\n",
        "mapped_hate_test=processed_hate_test[['labels','content_clean']].merge(data_hate_mapping,how='left')\n",
        "\n",
        "#Check\n",
        "print(mapped_hate_test)"
      ],
      "execution_count": 15,
      "outputs": [
        {
          "output_type": "stream",
          "text": [
            "     labels                                      content_clean   mapping\n",
            "0         0   , you are correct that reid certainly is a we...  not-hate\n",
            "1         1            whoever just unfollowed me you a bitch       hate\n",
            "2         1    those people invaded us!!! they do not belin...      hate\n",
            "3         1  stop judging bitches by there cover, just beca...      hate\n",
            "4         1  how about i knock heads off and send them gift...      hate\n",
            "...     ...                                                ...       ...\n",
            "2927      1   calling them  illegalaliens is heartless. the...      hate\n",
            "2928      1  silly killary wannabe !! and  numbers just kee...      hate\n",
            "2929      1             am in agreement with your views exc...      hate\n",
            "2930      0                                   stopimmigration   not-hate\n",
            "2931      0  that bitch on the spoiled who are list   thoug...  not-hate\n",
            "\n",
            "[2932 rows x 3 columns]\n"
          ],
          "name": "stdout"
        }
      ]
    },
    {
      "cell_type": "code",
      "metadata": {
        "colab": {
          "base_uri": "https://localhost:8080/"
        },
        "id": "HqZczE1BFHEh",
        "outputId": "638ff1da-f354-4ce8-d169-9ac3f18f21c7"
      },
      "source": [
        "#hate train data mapping\n",
        "mapped_hate_train=processed_hate_train[['labels','content_clean']].merge(data_hate_mapping,how='left')\n",
        "\n",
        "#Check\n",
        "print(mapped_hate_train)"
      ],
      "execution_count": 16,
      "outputs": [
        {
          "output_type": "stream",
          "text": [
            "     labels                                      content_clean   mapping\n",
            "0         0   nice new signage. are you not concerned by be...  not-hate\n",
            "1         1  a woman who you fucked multiple times saying y...      hate\n",
            "2         1    real talk do you have eyes or were they goug...      hate\n",
            "3         1  your girlfriend lookin at me like a groupie in...      hate\n",
            "4         0                            hysterical woman like    not-hate\n",
            "...     ...                                                ...       ...\n",
            "8988      0  oooohhhh bitch did not even listen to the dead...  not-hate\n",
            "8989      0   good luck  more americans  walkawayfromdemocr...  not-hate\n",
            "8990      0          bitch you can not keep up so stop trying   not-hate\n",
            "8991      0        japan is always operating under the prem...  not-hate\n",
            "8992      0   hi best l see someone fucking girl comment ba...  not-hate\n",
            "\n",
            "[8993 rows x 3 columns]\n"
          ],
          "name": "stdout"
        }
      ]
    },
    {
      "cell_type": "code",
      "metadata": {
        "colab": {
          "base_uri": "https://localhost:8080/"
        },
        "id": "5eBd2CUXF61B",
        "outputId": "7461872e-913c-4d9b-9fa9-dc4e6d203198"
      },
      "source": [
        "#hate val data mapping\n",
        "mapped_hate_val=processed_hate_val[['labels','content_clean']].merge(data_hate_mapping,how='left')\n",
        "\n",
        "#Check\n",
        "print(mapped_hate_val)"
      ],
      "execution_count": 17,
      "outputs": [
        {
          "output_type": "stream",
          "text": [
            "    labels                                      content_clean   mapping\n",
            "0        0    if book claire wanted to \"stay in the kitche...  not-hate\n",
            "1        0  after arriving in the eu refugees make protest...  not-hate\n",
            "2        0          flushed facebackhand index pointing down   not-hate\n",
            "3        1   worst thing is if they are that stupid to thi...      hate\n",
            "4        0    say's the hysterical woman. it is woman right?   not-hate\n",
            "..     ...                                                ...       ...\n",
            "984      1  pass  meritbased immigration. kill  chainmigra...      hate\n",
            "985      1  imagine chaeyoung cutting some cooked meat for...      hate\n",
            "986      1  i usually do not hate people but i actually ha...      hate\n",
            "987      0  cameron stopped immigrants voting on the eu in...  not-hate\n",
            "988      0  large scale migration of illegal migrants to d...  not-hate\n",
            "\n",
            "[989 rows x 3 columns]\n"
          ],
          "name": "stdout"
        }
      ]
    },
    {
      "cell_type": "markdown",
      "metadata": {
        "id": "4GU4GfXkJExC"
      },
      "source": [
        "#Data Exploration"
      ]
    },
    {
      "cell_type": "code",
      "metadata": {
        "colab": {
          "base_uri": "https://localhost:8080/",
          "height": 416
        },
        "id": "JVIZrRZDJISg",
        "outputId": "eba3f4ae-e4fc-4ef4-b145-cf67f8fc0620"
      },
      "source": [
        "#Exploration of 'hate Test Data'\n",
        "sns.set_theme(style=\"darkgrid\")\n",
        "sns.displot(mapped_hate_test, x='mapping', hue='mapping',palette='rocket_r')\n",
        "print(mapped_hate_test.mapping.value_counts())"
      ],
      "execution_count": 18,
      "outputs": [
        {
          "output_type": "stream",
          "text": [
            "not-hate    1697\n",
            "hate        1235\n",
            "Name: mapping, dtype: int64\n"
          ],
          "name": "stdout"
        },
        {
          "output_type": "display_data",
          "data": {
            "image/png": "[encoded data removed]",
            "text/plain": [
              "<Figure size 446.725x360 with 1 Axes>"
            ]
          },
          "metadata": {
            "tags": []
          }
        }
      ]
    },
    {
      "cell_type": "code",
      "metadata": {
        "colab": {
          "base_uri": "https://localhost:8080/",
          "height": 416
        },
        "id": "vCoBGNOAPaxJ",
        "outputId": "32ba67f5-3e3f-4ab6-d36a-c0d7450ad109"
      },
      "source": [
        "#Exploration of 'hate Train Data'\n",
        "sns.set_theme(style=\"darkgrid\")\n",
        "sns.displot(mapped_hate_train, x='mapping', hue='mapping', palette='rocket_r')\n",
        "print(mapped_hate_train.mapping.value_counts())"
      ],
      "execution_count": 19,
      "outputs": [
        {
          "output_type": "stream",
          "text": [
            "not-hate    5213\n",
            "hate        3780\n",
            "Name: mapping, dtype: int64\n"
          ],
          "name": "stdout"
        },
        {
          "output_type": "display_data",
          "data": {
            "image/png": "[encoded data removed]",
            "text/plain": [
              "<Figure size 446.725x360 with 1 Axes>"
            ]
          },
          "metadata": {
            "tags": []
          }
        }
      ]
    },
    {
      "cell_type": "code",
      "metadata": {
        "colab": {
          "base_uri": "https://localhost:8080/",
          "height": 416
        },
        "id": "EdutnaAHPjfY",
        "outputId": "101d151d-d4ca-4706-bca8-b2ede689d75b"
      },
      "source": [
        "#Exploration of 'hate Val Data'\n",
        "sns.set_theme(style=\"darkgrid\")\n",
        "sns.displot(mapped_hate_val, x='mapping', hue='mapping', palette='rocket_r')\n",
        "print(mapped_hate_val.mapping.value_counts())"
      ],
      "execution_count": 20,
      "outputs": [
        {
          "output_type": "stream",
          "text": [
            "not-hate    567\n",
            "hate        422\n",
            "Name: mapping, dtype: int64\n"
          ],
          "name": "stdout"
        },
        {
          "output_type": "display_data",
          "data": {
            "image/png": "[encoded data removed]",
            "text/plain": [
              "<Figure size 446.725x360 with 1 Axes>"
            ]
          },
          "metadata": {
            "tags": []
          }
        }
      ]
    }
  ]
}