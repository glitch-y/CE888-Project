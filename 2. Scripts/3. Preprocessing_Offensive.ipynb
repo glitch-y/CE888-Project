{
  "nbformat": 4,
  "nbformat_minor": 0,
  "metadata": {
    "colab": {
      "name": "Preprocessing.ipynb",
      "provenance": [],
      "authorship_tag": "ABX9TyOR8GcZTIOCX9X3n3PS+yso",
      "include_colab_link": true
    },
    "kernelspec": {
      "name": "python3",
      "display_name": "Python 3"
    }
  },
  "cells": [
    {
      "cell_type": "markdown",
      "metadata": {
        "id": "view-in-github",
        "colab_type": "text"
      },
      "source": [
        "<a href=\"https://colab.research.google.com/github/glitch-y/CE888-Project/blob/main/2.%20Scripts/3.%20Preprocessing_Offensive.ipynb\" target=\"_parent\"><img src=\"https://colab.research.google.com/assets/colab-badge.svg\" alt=\"Open In Colab\"/></a>"
      ]
    },
    {
      "cell_type": "code",
      "metadata": {
        "id": "NYh7CIZk47j0",
        "colab": {
          "base_uri": "https://localhost:8080/"
        },
        "outputId": "8614f84c-5974-4af8-ee56-88b92f130f32"
      },
      "source": [
        "!pip install contractions\n",
        "!pip install emot"
      ],
      "execution_count": 1,
      "outputs": [
        {
          "output_type": "stream",
          "text": [
            "Collecting contractions\n",
            "  Downloading https://files.pythonhosted.org/packages/0a/04/d5e0bb9f2cef5d15616ebf68087a725c5dbdd71bd422bcfb35d709f98ce7/contractions-0.0.48-py2.py3-none-any.whl\n",
            "Collecting textsearch>=0.0.21\n",
            "  Downloading https://files.pythonhosted.org/packages/d3/fe/021d7d76961b5ceb9f8d022c4138461d83beff36c3938dc424586085e559/textsearch-0.0.21-py2.py3-none-any.whl\n",
            "Collecting pyahocorasick\n",
            "\u001b[?25l  Downloading https://files.pythonhosted.org/packages/4a/92/b3c70b8cf2b76f7e3e8b7243d6f06f7cb3bab6ada237b1bce57604c5c519/pyahocorasick-1.4.1.tar.gz (321kB)\n",
            "\u001b[K     |████████████████████████████████| 327kB 5.5MB/s \n",
            "\u001b[?25hCollecting anyascii\n",
            "\u001b[?25l  Downloading https://files.pythonhosted.org/packages/09/c7/61370d9e3c349478e89a5554c1e5d9658e1e3116cc4f2528f568909ebdf1/anyascii-0.1.7-py3-none-any.whl (260kB)\n",
            "\u001b[K     |████████████████████████████████| 266kB 41.9MB/s \n",
            "\u001b[?25hBuilding wheels for collected packages: pyahocorasick\n",
            "  Building wheel for pyahocorasick (setup.py) ... \u001b[?25l\u001b[?25hdone\n",
            "  Created wheel for pyahocorasick: filename=pyahocorasick-1.4.1-cp37-cp37m-linux_x86_64.whl size=85247 sha256=99148af9a3a93ec981974c07c168b627f8ac995c3e69b5f8f962a16e23bfb240\n",
            "  Stored in directory: /root/.cache/pip/wheels/e4/ab/f7/cb39270df8f6126f3dd4c33d302357167086db460968cfc80c\n",
            "Successfully built pyahocorasick\n",
            "Installing collected packages: pyahocorasick, anyascii, textsearch, contractions\n",
            "Successfully installed anyascii-0.1.7 contractions-0.0.48 pyahocorasick-1.4.1 textsearch-0.0.21\n",
            "Collecting emot\n",
            "  Downloading https://files.pythonhosted.org/packages/49/07/20001ade19873de611b7b66a4d5e5aabbf190d65abea337d5deeaa2bc3de/emot-2.1-py3-none-any.whl\n",
            "Installing collected packages: emot\n",
            "Successfully installed emot-2.1\n"
          ],
          "name": "stdout"
        }
      ]
    },
    {
      "cell_type": "markdown",
      "metadata": {
        "id": "DOm5O4dtSmsw"
      },
      "source": [
        "# Import Modules\n",
        "Import modules for preprocessing"
      ]
    },
    {
      "cell_type": "code",
      "metadata": {
        "id": "xDcMGUXmMUlr"
      },
      "source": [
        "#Import modules\n",
        "import html #import 'html' module to clean html elements such as '&amp;, &lt' etc.\n",
        "import numpy as np\n",
        "import pandas as pd\n",
        "import contractions #import 'contractions' module to expand linguistic contactions (e.g. it's = it is)\n",
        "from emot import UNICODE_EMO #import emoji dictionary to transform emojis into text\n",
        "import re\n",
        "import seaborn as sns"
      ],
      "execution_count": 2,
      "outputs": []
    },
    {
      "cell_type": "markdown",
      "metadata": {
        "id": "4MKar_aiSqGJ"
      },
      "source": [
        "# Import Data\n",
        "Import data from TweetEval Github"
      ]
    },
    {
      "cell_type": "code",
      "metadata": {
        "id": "d2vc0edv2eYr"
      },
      "source": [
        "#Import files for the 'offensive' task\n",
        "data_offensive_test = pd.read_csv(f\"https://raw.githubusercontent.com/cardiffnlp/tweeteval/main/datasets/offensive/test_text.txt\", \n",
        "                                delimiter='\\t', dtype=str, header= None)\n",
        "data_offensive_test_labels = pd.read_csv(f\"https://raw.githubusercontent.com/cardiffnlp/tweeteval/main/datasets/offensive/test_labels.txt\", \n",
        "                                      delimiter='\\t', dtype=str, header= None)\n",
        "data_offensive_mapping = pd.read_csv(f\"https://raw.githubusercontent.com/cardiffnlp/tweeteval/main/datasets/offensive/mapping.txt\", \n",
        "                                      delimiter='\\t', dtype=str, header= None)\n",
        "data_offensive_train = pd.read_csv(f\"https://raw.githubusercontent.com/cardiffnlp/tweeteval/main/datasets/offensive/train_text.txt\", \n",
        "                                      delimiter='\\t', dtype=str, header= None)\n",
        "data_offensive_train_labels = pd.read_csv(f\"https://raw.githubusercontent.com/cardiffnlp/tweeteval/main/datasets/offensive/train_labels.txt\", \n",
        "                                      delimiter='\\t', dtype=str, header= None)\n",
        "data_offensive_val = pd.read_csv(f\"https://raw.githubusercontent.com/cardiffnlp/tweeteval/main/datasets/offensive/val_text.txt\", \n",
        "                                      delimiter='\\t', dtype=str, header= None)\n",
        "data_offensive_val_labels = pd.read_csv(f\"https://raw.githubusercontent.com/cardiffnlp/tweeteval/main/datasets/offensive/val_labels.txt\", \n",
        "                                      delimiter='\\t', dtype=str, header= None)\n",
        "\n",
        "#Assign column names for offensive datasets\n",
        "data_offensive_test.columns =['content']\n",
        "data_offensive_test_labels.columns =['labels']\n",
        "data_offensive_mapping.columns =['labels','mapping']\n",
        "data_offensive_train.columns =['content']\n",
        "data_offensive_train_labels.columns =['labels']\n",
        "data_offensive_val.columns =['content']\n",
        "data_offensive_val_labels.columns =['labels'] "
      ],
      "execution_count": 3,
      "outputs": []
    },
    {
      "cell_type": "markdown",
      "metadata": {
        "id": "a7vYzjZOS4wt"
      },
      "source": [
        "# Preprocessing"
      ]
    },
    {
      "cell_type": "markdown",
      "metadata": {
        "id": "GOoEHhzEw9YE"
      },
      "source": [
        "##Replace misspelled words\n",
        "\n",
        "Typos are common in text data and the scripts below create a dictionary of commonly mispelled words and applies it against the 3 'text' sets"
      ]
    },
    {
      "cell_type": "code",
      "metadata": {
        "colab": {
          "base_uri": "https://localhost:8080/"
        },
        "id": "fse8feXLnQUd",
        "outputId": "f39f8b8b-fb7c-43ec-d7c4-4a6225849369"
      },
      "source": [
        "#Import misspelling data as dictionary\n",
        "misspell_data = pd.read_csv(\"https://raw.githubusercontent.com/glitch-y/CE888-Project/main/1.%20Dictionaries/Misspelling.txt\",sep=\":\",names=[\"correction\",\"misspell\"])\n",
        "misspell_data.misspell = misspell_data.misspell.str.strip()\n",
        "misspell_data.misspell = misspell_data.misspell.str.split(\" \")\n",
        "misspell_data = misspell_data.explode(\"misspell\").reset_index(drop=True)\n",
        "misspell_data.drop_duplicates(\"misspell\",inplace=True)\n",
        "miss_corr = dict(zip(misspell_data.misspell, misspell_data.correction))\n",
        "\n",
        "#Preview misspelling dictionary\n",
        "{v:miss_corr[v] for v in [list(miss_corr.keys())[k] for k in range(10)]}"
      ],
      "execution_count": 4,
      "outputs": [
        {
          "output_type": "execute_result",
          "data": {
            "text/plain": [
              "{'Steffen': 'Stephen',\n",
              " 'abilitey': 'ability',\n",
              " 'abouy': 'about',\n",
              " 'absorbtion': 'absorption',\n",
              " 'accidently': 'accidentally',\n",
              " 'bout': 'about',\n",
              " 'nevade': 'Nevada',\n",
              " 'presbyterian': 'Presbyterian',\n",
              " 'rsx': 'RSX',\n",
              " 'susan': 'Susan'}"
            ]
          },
          "metadata": {
            "tags": []
          },
          "execution_count": 4
        }
      ]
    },
    {
      "cell_type": "code",
      "metadata": {
        "id": "sk52rg9YZPZG"
      },
      "source": [
        "#Create misspelling correction function\n",
        "def misspelled_correction(x):\n",
        "    for i in x.split(): \n",
        "        if i in miss_corr.keys(): \n",
        "            x = x.replace(i, miss_corr[i]) \n",
        "    return x\n",
        "\n",
        "#Apply misspelling correction to text dataframes as new column\n",
        "data_offensive_test['content_clean'] = data_offensive_test.content.apply(lambda x : misspelled_correction(x).lower())\n",
        "data_offensive_train['content_clean'] = data_offensive_train.content.apply(lambda x : misspelled_correction(x).lower())\n",
        "data_offensive_val['content_clean'] = data_offensive_val.content.apply(lambda x : misspelled_correction(x).lower())"
      ],
      "execution_count": 5,
      "outputs": []
    },
    {
      "cell_type": "markdown",
      "metadata": {
        "id": "OhrycsD0xlYx"
      },
      "source": [
        "##Replace abbreviated words\n",
        "\n",
        "Social media users normally use abbreviated text due to the fast nature of writing a post as well as certain limitations in terms of characters (a well-known aspect of Twitter. \n",
        "\n",
        "The script below create a dictionary of commonly known internet abbreviations and applies it against the 3 'text' data sets."
      ]
    },
    {
      "cell_type": "code",
      "metadata": {
        "colab": {
          "base_uri": "https://localhost:8080/"
        },
        "id": "G1suRDHNoe4M",
        "outputId": "a401a5f5-397c-4a02-b34a-2ed4d21800c7"
      },
      "source": [
        "#Abbreviated chat words conversion\n",
        "#Create Dictionary\n",
        "chat_dictionary = pd.read_csv(\"https://raw.githubusercontent.com/glitch-y/CE888-Project/main/1.%20Dictionaries/SlangDictionary.csv\",dtype=str, names=[\"Slang\", \"Translation\"])\n",
        "chat_dictionary=chat_dictionary.apply(lambda x: x.str.lower())\n",
        "slang_corr = dict(zip(chat_dictionary.Slang, chat_dictionary.Translation))\n",
        "\n",
        "#Preview abbreviation dictionary\n",
        "{v:slang_corr[v] for v in [list(slang_corr.keys())[k] for k in range(10)]}"
      ],
      "execution_count": 6,
      "outputs": [
        {
          "output_type": "execute_result",
          "data": {
            "text/plain": [
              "{'a.s.a.p.': 'as soon as possible',\n",
              " 'af': 'as fuck',\n",
              " 'ama': 'ask me anything',\n",
              " 'asap': 'as soon as possible',\n",
              " 'atk': 'at the keyboard',\n",
              " 'atm': 'at the moment',\n",
              " 'bbl': 'be back later',\n",
              " 'bcs': 'because',\n",
              " 'bcus': 'because',\n",
              " 'bcuz': 'because'}"
            ]
          },
          "metadata": {
            "tags": []
          },
          "execution_count": 6
        }
      ]
    },
    {
      "cell_type": "code",
      "metadata": {
        "colab": {
          "base_uri": "https://localhost:8080/",
          "height": 204
        },
        "id": "wO1rOaviyD4-",
        "outputId": "fee8ea0c-3142-4e50-f53c-deb893f4fb6f"
      },
      "source": [
        "#Create abbreviation replacement function\n",
        "def abbrev_replace(x):\n",
        "    for i in x.split(): \n",
        "        if i in slang_corr.keys(): \n",
        "            x = x.replace(i, slang_corr[i]) \n",
        "    return x\n",
        "\n",
        "#Apply misspelling correction to dataframe as new column\n",
        "data_offensive_test.content_clean = data_offensive_test.content_clean.apply(lambda x : abbrev_replace(x))\n",
        "data_offensive_train.content_clean = data_offensive_train.content_clean.apply(lambda x : abbrev_replace(x))\n",
        "data_offensive_val.content_clean = data_offensive_val.content_clean.apply(lambda x : abbrev_replace(x))\n",
        "\n",
        "#Check\n",
        "data_offensive_train.head()"
      ],
      "execution_count": 7,
      "outputs": [
        {
          "output_type": "execute_result",
          "data": {
            "text/html": [
              "<div>\n",
              "<style scoped>\n",
              "    .dataframe tbody tr th:only-of-type {\n",
              "        vertical-align: middle;\n",
              "    }\n",
              "\n",
              "    .dataframe tbody tr th {\n",
              "        vertical-align: top;\n",
              "    }\n",
              "\n",
              "    .dataframe thead th {\n",
              "        text-align: right;\n",
              "    }\n",
              "</style>\n",
              "<table border=\"1\" class=\"dataframe\">\n",
              "  <thead>\n",
              "    <tr style=\"text-align: right;\">\n",
              "      <th></th>\n",
              "      <th>content</th>\n",
              "      <th>content_clean</th>\n",
              "    </tr>\n",
              "  </thead>\n",
              "  <tbody>\n",
              "    <tr>\n",
              "      <th>0</th>\n",
              "      <td>@user Bono... who cares. Soon people will unde...</td>\n",
              "      <td>@user bono... who cares. soon people will unde...</td>\n",
              "    </tr>\n",
              "    <tr>\n",
              "      <th>1</th>\n",
              "      <td>@user Eight years the republicans denied obama...</td>\n",
              "      <td>@user eight years the republicans denied obama...</td>\n",
              "    </tr>\n",
              "    <tr>\n",
              "      <th>2</th>\n",
              "      <td>@user Get him some line help. He is gonna be j...</td>\n",
              "      <td>@user get him some line help. he is gonna be j...</td>\n",
              "    </tr>\n",
              "    <tr>\n",
              "      <th>3</th>\n",
              "      <td>@user @user She is great. Hi Fiona!</td>\n",
              "      <td>@user @user she is great. hi fiona!</td>\n",
              "    </tr>\n",
              "    <tr>\n",
              "      <th>4</th>\n",
              "      <td>@user She has become a parody unto herself? Sh...</td>\n",
              "      <td>@user she has become a parody unto herself? sh...</td>\n",
              "    </tr>\n",
              "  </tbody>\n",
              "</table>\n",
              "</div>"
            ],
            "text/plain": [
              "                                             content                                      content_clean\n",
              "0  @user Bono... who cares. Soon people will unde...  @user bono... who cares. soon people will unde...\n",
              "1  @user Eight years the republicans denied obama...  @user eight years the republicans denied obama...\n",
              "2  @user Get him some line help. He is gonna be j...  @user get him some line help. he is gonna be j...\n",
              "3               @user @user She is great. Hi Fiona!                @user @user she is great. hi fiona! \n",
              "4  @user She has become a parody unto herself? Sh...  @user she has become a parody unto herself? sh..."
            ]
          },
          "metadata": {
            "tags": []
          },
          "execution_count": 7
        }
      ]
    },
    {
      "cell_type": "markdown",
      "metadata": {
        "id": "e0fTqmV5yha_"
      },
      "source": [
        "##Remove HTML elements\n",
        "\n",
        "Data scraped from various websites usually returns certain html elements such as '&amp;' for '&'\n",
        "\n",
        "The script below uses the 'html' module to clean the data of any such occurences"
      ]
    },
    {
      "cell_type": "code",
      "metadata": {
        "id": "KmSxVYV_0GYV"
      },
      "source": [
        "#clean HTML charachters such as &amp;, &lt; etc using 'html' module\n",
        "data_offensive_test.content_clean = data_offensive_test.content_clean.apply(lambda x: html.unescape(x))\n",
        "data_offensive_train.content_clean = data_offensive_train.content_clean.apply(lambda x: html.unescape(x))\n",
        "data_offensive_val.content_clean = data_offensive_val.content_clean.apply(lambda x: html.unescape(x))"
      ],
      "execution_count": 8,
      "outputs": []
    },
    {
      "cell_type": "markdown",
      "metadata": {
        "id": "-q5SXhUszBir"
      },
      "source": [
        "##Fix language contractions\n",
        "\n",
        "The script below uses the 'contractions' module to expand any language contractions such as 'let's' into 'let us' or 'it's' into 'it is'"
      ]
    },
    {
      "cell_type": "code",
      "metadata": {
        "id": "wIib9xFv5rkS"
      },
      "source": [
        "#fix contractions; i.e. 'It's' transforms into 'it is'\n",
        "data_offensive_test.content_clean = data_offensive_test.content_clean.apply(lambda x: contractions.fix(x))\n",
        "data_offensive_train.content_clean = data_offensive_train.content_clean.apply(lambda x: contractions.fix(x))\n",
        "data_offensive_val.content_clean = data_offensive_val.content_clean.apply(lambda x: contractions.fix(x))"
      ],
      "execution_count": 9,
      "outputs": []
    },
    {
      "cell_type": "markdown",
      "metadata": {
        "id": "xpGtSXcrz9aG"
      },
      "source": [
        "##Remove 'newlines' and replace '&' with 'and'\n"
      ]
    },
    {
      "cell_type": "code",
      "metadata": {
        "id": "91OK_1gd77sz"
      },
      "source": [
        "#Remove newlines from data and replace '&' with 'and'\n",
        "data_offensive_test.content_clean = data_offensive_test.content_clean.replace(r'\\\\n',' ', regex=True)\n",
        "data_offensive_test.content_clean = data_offensive_test.content_clean.replace(r'&','and', regex=True)\n",
        "\n",
        "data_offensive_train.content_clean = data_offensive_train.content_clean.replace(r'\\\\n',' ', regex=True)\n",
        "data_offensive_train.content_clean = data_offensive_train.content_clean.replace(r'&','and', regex=True)\n",
        "\n",
        "data_offensive_val.content_clean = data_offensive_val.content_clean.replace(r'\\\\n',' ', regex=True)\n",
        "data_offensive_val.content_clean = data_offensive_val.content_clean.replace(r'&','and', regex=True)"
      ],
      "execution_count": 10,
      "outputs": []
    },
    {
      "cell_type": "markdown",
      "metadata": {
        "id": "ybOwJ8qZ0nOd"
      },
      "source": [
        "##Convert emojis into text\n",
        "\n",
        "Emoji's describe a variety of offensives or objects which can help increase the accuracy of the algorithm. \n",
        "\n",
        "The script below uses the 'emot' module to lookup emoji's in the module dictionary and translate them into text.\n"
      ]
    },
    {
      "cell_type": "code",
      "metadata": {
        "id": "p5M4iqt_EFII"
      },
      "source": [
        "#convert emojis into text\n",
        "def convert_emojis(x):\n",
        "    for emot in UNICODE_EMO:\n",
        "        x = x.replace(emot, \"_\".join(UNICODE_EMO[emot].replace(\",\",\"\").replace(\":\",\"\").split()))\n",
        "    return x\n",
        "\n",
        "data_offensive_test.content_clean = data_offensive_test.content_clean.apply(lambda x: convert_emojis(x))\n",
        "data_offensive_train.content_clean = data_offensive_train.content_clean.apply(lambda x: convert_emojis(x))\n",
        "data_offensive_val.content_clean = data_offensive_val.content_clean.apply(lambda x: convert_emojis(x))"
      ],
      "execution_count": 11,
      "outputs": []
    },
    {
      "cell_type": "markdown",
      "metadata": {
        "id": "4NCzNhj91Wfh"
      },
      "source": [
        "##Remove unnecessary punctuation\n",
        "\n",
        "Certain types of punctuation is not of particular use and is removed using the script below. \n",
        "\n",
        "However, commas, periods, exclamation marks, question marks apostrophes have not been taken out as they help set the tone or define the relationships between words.\n"
      ]
    },
    {
      "cell_type": "code",
      "metadata": {
        "id": "YGlUUihvFZbB"
      },
      "source": [
        "#Remove unnecessary punctuation\n",
        "def punctuation(x): \n",
        "  \n",
        "    punctuations = '()-[]{};:\\<>/#$%^&_~'\n",
        "  \n",
        "    for i in x.lower(): \n",
        "        if i in punctuations: \n",
        "            x = x.replace(i, \" \") \n",
        "    return x\n",
        "\n",
        "data_offensive_test.content_clean = data_offensive_test.content_clean.apply(lambda x: punctuation(x))\n",
        "data_offensive_train.content_clean = data_offensive_train.content_clean.apply(lambda x: punctuation(x))\n",
        "data_offensive_val.content_clean = data_offensive_val.content_clean.apply(lambda x: punctuation(x))"
      ],
      "execution_count": 12,
      "outputs": []
    },
    {
      "cell_type": "markdown",
      "metadata": {
        "id": "YwydchOn2GL8"
      },
      "source": [
        "##Remove '@user' mentions\n"
      ]
    },
    {
      "cell_type": "code",
      "metadata": {
        "colab": {
          "base_uri": "https://localhost:8080/",
          "height": 204
        },
        "id": "zFNXmcBvP9Ul",
        "outputId": "6640cc31-8864-4602-b835-c92496d0a61f"
      },
      "source": [
        "#Remove @user mentions\n",
        "data_offensive_test.content_clean = data_offensive_test.content_clean.str.replace('@user','')\n",
        "data_offensive_train.content_clean = data_offensive_train.content_clean.str.replace('@user','')\n",
        "data_offensive_val.content_clean = data_offensive_val.content_clean.str.replace('@user','')\n",
        "\n",
        "\n",
        "data_offensive_test.head()"
      ],
      "execution_count": 13,
      "outputs": [
        {
          "output_type": "execute_result",
          "data": {
            "text/html": [
              "<div>\n",
              "<style scoped>\n",
              "    .dataframe tbody tr th:only-of-type {\n",
              "        vertical-align: middle;\n",
              "    }\n",
              "\n",
              "    .dataframe tbody tr th {\n",
              "        vertical-align: top;\n",
              "    }\n",
              "\n",
              "    .dataframe thead th {\n",
              "        text-align: right;\n",
              "    }\n",
              "</style>\n",
              "<table border=\"1\" class=\"dataframe\">\n",
              "  <thead>\n",
              "    <tr style=\"text-align: right;\">\n",
              "      <th></th>\n",
              "      <th>content</th>\n",
              "      <th>content_clean</th>\n",
              "    </tr>\n",
              "  </thead>\n",
              "  <tbody>\n",
              "    <tr>\n",
              "      <th>0</th>\n",
              "      <td>#ibelieveblaseyford is liar she is fat ugly li...</td>\n",
              "      <td>ibelieveblaseyford is liar she is fat ugly li...</td>\n",
              "    </tr>\n",
              "    <tr>\n",
              "      <th>1</th>\n",
              "      <td>@user @user @user I got in a pretty deep debat...</td>\n",
              "      <td>i got in a pretty deep debate with my frien...</td>\n",
              "    </tr>\n",
              "    <tr>\n",
              "      <th>2</th>\n",
              "      <td>...if you want more shootings and more death, ...</td>\n",
              "      <td>...if you want more shootings and more death, ...</td>\n",
              "    </tr>\n",
              "    <tr>\n",
              "      <th>3</th>\n",
              "      <td>Angels now have 6 runs. Five of them have come...</td>\n",
              "      <td>angels now have 6 runs. five of them have come...</td>\n",
              "    </tr>\n",
              "    <tr>\n",
              "      <th>4</th>\n",
              "      <td>#Travel #Movies and Unix #Fortune combined  Vi...</td>\n",
              "      <td>travel  movies and unix  fortune combined  vi...</td>\n",
              "    </tr>\n",
              "  </tbody>\n",
              "</table>\n",
              "</div>"
            ],
            "text/plain": [
              "                                             content                                      content_clean\n",
              "0  #ibelieveblaseyford is liar she is fat ugly li...   ibelieveblaseyford is liar she is fat ugly li...\n",
              "1  @user @user @user I got in a pretty deep debat...     i got in a pretty deep debate with my frien...\n",
              "2  ...if you want more shootings and more death, ...  ...if you want more shootings and more death, ...\n",
              "3  Angels now have 6 runs. Five of them have come...  angels now have 6 runs. five of them have come...\n",
              "4  #Travel #Movies and Unix #Fortune combined  Vi...   travel  movies and unix  fortune combined  vi..."
            ]
          },
          "metadata": {
            "tags": []
          },
          "execution_count": 13
        }
      ]
    },
    {
      "cell_type": "markdown",
      "metadata": {
        "id": "P5mY7V1z6Zv_"
      },
      "source": [
        "##Assign labels to Tweet datasets\n",
        "\n",
        "The script below assigns the labels to the 3 separate 'text' files."
      ]
    },
    {
      "cell_type": "code",
      "metadata": {
        "id": "QNKaYopE4Zi3"
      },
      "source": [
        "#Test Data\n",
        "data_offensive_test.reset_index(inplace=True)\n",
        "data_offensive_test_labels.reset_index(inplace=True)\n",
        "processed_offensive_test=data_offensive_test.merge(data_offensive_test_labels)\n",
        "\n",
        "#Train Data\n",
        "data_offensive_train.reset_index(inplace=True)\n",
        "data_offensive_train_labels.reset_index(inplace=True)\n",
        "processed_offensive_train=data_offensive_train.merge(data_offensive_train_labels)\n",
        "\n",
        "#Val Data\n",
        "data_offensive_val.reset_index(inplace=True)\n",
        "data_offensive_val_labels.reset_index(inplace=True)\n",
        "processed_offensive_val=data_offensive_val.merge(data_offensive_val_labels)"
      ],
      "execution_count": 14,
      "outputs": []
    },
    {
      "cell_type": "markdown",
      "metadata": {
        "id": "NWe27N-0EsNk"
      },
      "source": [
        "##Map labels\n",
        "Map each row with the respective offensive tags, based on the values in column 'Labels'\n"
      ]
    },
    {
      "cell_type": "code",
      "metadata": {
        "colab": {
          "base_uri": "https://localhost:8080/"
        },
        "id": "rDJE5Rf0BvlJ",
        "outputId": "261709a5-e50f-412e-b058-c1d0dec99daf"
      },
      "source": [
        "#offensive test data mapping\n",
        "mapped_offensive_test=processed_offensive_test[['labels','content_clean']].merge(data_offensive_mapping,how='left')\n",
        "\n",
        "#Check\n",
        "print(mapped_offensive_test)"
      ],
      "execution_count": 15,
      "outputs": [
        {
          "output_type": "stream",
          "text": [
            "    labels                                      content_clean        mapping\n",
            "0        1   ibelieveblaseyford is liar she is fat ugly li...      offensive\n",
            "1        0     i got in a pretty deep debate with my frien...  not-offensive\n",
            "2        0  ...if you want more shootings and more death, ...  not-offensive\n",
            "3        0  angels now have 6 runs. five of them have come...  not-offensive\n",
            "4        0   travel  movies and unix  fortune combined  vi...  not-offensive\n",
            "..     ...                                                ...            ...\n",
            "855      0   cnn irrationally argues 4 legalising  abortio...  not-offensive\n",
            "856      0                city of chicago, democrat run wi...  not-offensive\n",
            "857      1   conservatives do not care what you post..it i...      offensive\n",
            "858      0   antifa  resist.. trump is trying to bring wor...  not-offensive\n",
            "859      0   maine you need to face facts  does not really...  not-offensive\n",
            "\n",
            "[860 rows x 3 columns]\n"
          ],
          "name": "stdout"
        }
      ]
    },
    {
      "cell_type": "code",
      "metadata": {
        "colab": {
          "base_uri": "https://localhost:8080/"
        },
        "id": "HqZczE1BFHEh",
        "outputId": "c693028a-5fc8-46ff-adec-734ef36a7b96"
      },
      "source": [
        "#offensive train data mapping\n",
        "mapped_offensive_train=processed_offensive_train[['labels','content_clean']].merge(data_offensive_mapping,how='left')\n",
        "\n",
        "#Check\n",
        "print(mapped_offensive_train)"
      ],
      "execution_count": 16,
      "outputs": [
        {
          "output_type": "stream",
          "text": [
            "      labels                                      content_clean        mapping\n",
            "0          0   bono... who cares. soon people will understan...  not-offensive\n",
            "1          1   eight years the republicans denied obama’s pi...      offensive\n",
            "2          0   get him some line help. he is going to be jus...  not-offensive\n",
            "3          0                           she is great. hi fiona!   not-offensive\n",
            "4          1   she has become a parody unto herself? she has...      offensive\n",
            "...      ...                                                ...            ...\n",
            "11911      1         i wonder if they are sex traffic victims?       offensive\n",
            "11912      0        do we dare say he is... better than nyjer?   not-offensive\n",
            "11913      0                          no idea who he is. sorry   not-offensive\n",
            "11914      0   professor who shot self over trump says gun c...  not-offensive\n",
            "11915      1     here your proof!  our african 🇺🇸 friends do...      offensive\n",
            "\n",
            "[11916 rows x 3 columns]\n"
          ],
          "name": "stdout"
        }
      ]
    },
    {
      "cell_type": "code",
      "metadata": {
        "colab": {
          "base_uri": "https://localhost:8080/"
        },
        "id": "5eBd2CUXF61B",
        "outputId": "73de5838-db5c-497e-c156-607d2542c1ac"
      },
      "source": [
        "#offensive val data mapping\n",
        "mapped_offensive_val=processed_offensive_val[['labels','content_clean']].merge(data_offensive_mapping,how='left')\n",
        "\n",
        "#Check\n",
        "print(mapped_offensive_val)"
      ],
      "execution_count": 17,
      "outputs": [
        {
          "output_type": "stream",
          "text": [
            "     labels                                      content_clean        mapping\n",
            "0         0                  wiiu is not even a real console.   not-offensive\n",
            "1         1     if he is from az i would put my money on se...      offensive\n",
            "2         0   i thought canada had strict gun control.  hel...  not-offensive\n",
            "3         0                  following all  maga patriots p...  not-offensive\n",
            "4         0               1 minute of truth  gun control via    not-offensive\n",
            "...     ...                                                ...            ...\n",
            "1319      0    whose twitter interest start with food  is h...  not-offensive\n",
            "1320      0    how did the press\"\" get the letter????? maga\"\"   not-offensive\n",
            "1321      0        sorry about your son. i am sure he would...  not-offensive\n",
            "1322      1                              fuck alan I am sorry       offensive\n",
            "1323      0   tories  labour  ge2017  conservatives conserv...  not-offensive\n",
            "\n",
            "[1324 rows x 3 columns]\n"
          ],
          "name": "stdout"
        }
      ]
    },
    {
      "cell_type": "markdown",
      "metadata": {
        "id": "4GU4GfXkJExC"
      },
      "source": [
        "#Data Exploration"
      ]
    },
    {
      "cell_type": "code",
      "metadata": {
        "colab": {
          "base_uri": "https://localhost:8080/",
          "height": 416
        },
        "id": "JVIZrRZDJISg",
        "outputId": "b37852a6-e434-4246-d30d-40b64340dacc"
      },
      "source": [
        "#Exploration of 'offensive Test Data'\n",
        "sns.set_theme(style=\"darkgrid\")\n",
        "sns.displot(mapped_offensive_test, x='mapping', hue='mapping',palette='rocket_r')\n",
        "print(mapped_offensive_test.mapping.value_counts())"
      ],
      "execution_count": 18,
      "outputs": [
        {
          "output_type": "stream",
          "text": [
            "not-offensive    620\n",
            "offensive        240\n",
            "Name: mapping, dtype: int64\n"
          ],
          "name": "stdout"
        },
        {
          "output_type": "display_data",
          "data": {
            "image/png": "[encoded data removed]",
            "text/plain": [
              "<Figure size 472.85x360 with 1 Axes>"
            ]
          },
          "metadata": {
            "tags": []
          }
        }
      ]
    },
    {
      "cell_type": "code",
      "metadata": {
        "colab": {
          "base_uri": "https://localhost:8080/",
          "height": 416
        },
        "id": "vCoBGNOAPaxJ",
        "outputId": "fce88a73-ac02-441b-d28c-6330a523b02e"
      },
      "source": [
        "#Exploration of 'offensive Train Data'\n",
        "sns.set_theme(style=\"darkgrid\")\n",
        "sns.displot(mapped_offensive_train, x='mapping', hue='mapping', palette='rocket_r')\n",
        "print(mapped_offensive_train.mapping.value_counts())"
      ],
      "execution_count": 19,
      "outputs": [
        {
          "output_type": "stream",
          "text": [
            "not-offensive    7975\n",
            "offensive        3941\n",
            "Name: mapping, dtype: int64\n"
          ],
          "name": "stdout"
        },
        {
          "output_type": "display_data",
          "data": {
            "image/png": "[encoded data removed]",
            "text/plain": [
              "<Figure size 472.85x360 with 1 Axes>"
            ]
          },
          "metadata": {
            "tags": []
          }
        }
      ]
    },
    {
      "cell_type": "code",
      "metadata": {
        "colab": {
          "base_uri": "https://localhost:8080/",
          "height": 416
        },
        "id": "EdutnaAHPjfY",
        "outputId": "8e89433b-f9b8-4a37-8be8-583267a41b58"
      },
      "source": [
        "#Exploration of 'offensive Val Data'\n",
        "sns.set_theme(style=\"darkgrid\")\n",
        "sns.displot(mapped_offensive_val, x='mapping', hue='mapping', palette='rocket_r')\n",
        "print(mapped_offensive_val.mapping.value_counts())"
      ],
      "execution_count": 20,
      "outputs": [
        {
          "output_type": "stream",
          "text": [
            "not-offensive    865\n",
            "offensive        459\n",
            "Name: mapping, dtype: int64\n"
          ],
          "name": "stdout"
        },
        {
          "output_type": "display_data",
          "data": {
            "image/png": "[encoded data removed]",
            "text/plain": [
              "<Figure size 472.85x360 with 1 Axes>"
            ]
          },
          "metadata": {
            "tags": []
          }
        }
      ]
    },
    {
      "cell_type": "code",
      "metadata": {
        "id": "FbJ_6Jj5jM_0"
      },
      "source": [
        "mapped_offensive_test.to_csv(\"mapped_offensive_test\")\n",
        "mapped_offensive_train.to_csv(\"mapped_offensive_train\")\n",
        "mapped_offensive_val.to_csv(\"mapped_offensive_val\")"
      ],
      "execution_count": 22,
      "outputs": []
    }
  ]
}